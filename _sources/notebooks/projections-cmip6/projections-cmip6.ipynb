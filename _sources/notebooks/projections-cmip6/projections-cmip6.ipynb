{
 "cells": [
  {
   "cell_type": "markdown",
   "metadata": {},
   "source": [
    "![logo](./img/LogoLine_horizon_C3S.png)"
   ]
  },
  {
   "cell_type": "markdown",
   "metadata": {},
   "source": [
    "<br>"
   ]
  },
  {
   "cell_type": "markdown",
   "metadata": {
    "editable": true,
    "slideshow": {
     "slide_type": ""
    },
    "tags": [
     "title"
    ]
   },
   "source": [
    "# Plot an Ensemble of CMIP6 Climate Projections"
   ]
  },
  {
   "cell_type": "markdown",
   "metadata": {
    "editable": true,
    "slideshow": {
     "slide_type": ""
    },
    "tags": [
     "description"
    ]
   },
   "source": [
    "This notebook provides a practical introduction on how to access and process [CMIP6 global climate projections](https://cds.climate.copernicus.eu/cdsapp#!/dataset/projections-cmip6?tab=overview) data available in the [Climate Data Store (CDS)](https://cds.climate.copernicus.eu/) of the [Copernicus Climate Change Service (C3S)](https://climate.copernicus.eu/). The workflow shows how to compute and visualize the output of an ensemble of models for the annual global average temperature between 1850 to 2100. You will use the `historical` experiment for the temporal period 1850 to 2014 and the three scenarios `SSP1-2.6`, `SSP2-4.5` and `SSP5-8.5` for the period from 2015 to 2100.\n",
    "\n",
    "Learn [here](https://confluence.ecmwf.int/display/CKB/CMIP6%3A+Global+climate+projections#CMIP6:Globalclimateprojections) more about CMIP6 global climate projections and the CMIP6 experiments in the CDS."
   ]
  },
  {
   "cell_type": "markdown",
   "metadata": {},
   "source": [
    "<div class=\"alert alert-block alert-success\">\n",
    "    <b>NOTE</b>: </br>\n",
    "    For the sake of simplicity, and to facilitate data download, the tutorial will make use of some of the coarser resolution models that have a smaller data size. It is nevertheless only a choice for this exercise and <b>not a recommendation</b> (since ideally all models, including those with highest resolution, should be used). Many more models are available on the CDS, and when calculating an ensemble of models, <b>it is best practice to use as many as possible for a more reliable output</b>. See <a href=\"https://confluence.ecmwf.int/display/CKB/CMIP6%3A+Global+climate+projections#CMIP6:Globalclimateprojections-Models,gridsandpressurelevels\">here </a> a full list of models included in the CDS-CMIP6 dataset.</div>"
   ]
  },
  {
   "cell_type": "markdown",
   "metadata": {},
   "source": [
    "<hr>"
   ]
  },
  {
   "cell_type": "markdown",
   "metadata": {
    "editable": true,
    "slideshow": {
     "slide_type": ""
    },
    "tags": [
     "learning-objectives"
    ]
   },
   "source": [
    "## Learning objectives 🧠\n",
    "  \n",
    "1. Learn to compute a model ensemble and visualize its output."
   ]
  },
  {
   "cell_type": "markdown",
   "metadata": {},
   "source": [
    "<hr>"
   ]
  },
  {
   "cell_type": "markdown",
   "metadata": {
    "editable": true,
    "slideshow": {
     "slide_type": ""
    },
    "tags": [
     "target-audience"
    ]
   },
   "source": [
    "## Target audience 🎯\n",
    "\n",
    "**Anyone** interested in learning how to predicting climate variables through the use of model ensembles."
   ]
  },
  {
   "cell_type": "markdown",
   "metadata": {},
   "source": [
    "<hr>"
   ]
  },
  {
   "cell_type": "markdown",
   "metadata": {
    "editable": true,
    "slideshow": {
     "slide_type": ""
    },
    "tags": [
     "prerequisites"
    ]
   },
   "source": [
    "## Prerequisites and assumed knowledge 🔍\n",
    "1. **Programming Skills**: Familiarity with programming concepts, particularly in Python, as the tutorial involves using loops, defining functions and using multiple different libraries for data manipulation and visualization.\n",
    "   \n",
    "2. **Familiarity with API Usage**: Understanding of how to use Application Programming Interfaces (APIs) will be useful for accessing data through the CDS API.\n",
    "\n",
    "3. **Familiarity with multidimensional data structure**: Comprehending what are data dimensions and how they are organized in an array will be helpful.\n",
    "\n",
    "4. **Familiarity with the concept of model ensembling**: check [this C3S module](https://learning.ecmwf.int/mod/scorm/player.php?a=170&currentorg=Ensemble_Forecasting_ORG&scoid=440) to learn more about model ensembles."
   ]
  },
  {
   "cell_type": "markdown",
   "metadata": {},
   "source": [
    "<hr>"
   ]
  },
  {
   "cell_type": "markdown",
   "metadata": {
    "editable": true,
    "slideshow": {
     "slide_type": ""
    },
    "tags": [
     "difficulty"
    ]
   },
   "source": [
    ":::{admonition} Difficulty\n",
    ":class: tip\n",
    "3/5\n",
    ":::"
   ]
  },
  {
   "cell_type": "markdown",
   "metadata": {},
   "source": [
    "<hr>"
   ]
  },
  {
   "cell_type": "markdown",
   "metadata": {
    "editable": true,
    "slideshow": {
     "slide_type": ""
    },
    "tags": [
     "run-the-tutorial"
    ]
   },
   "source": [
    ":::{dropdown} Run the tutorial\n",
    ":open:\n",
    "### WEKEO\n",
    "\n",
    "[WEkEO](https://www.wekeo.eu/) serves as the official platform of the European Centre for Medium-Range Weather Forecasts (ECMWF), offering access to an extensive array of climate data and tools for analysis and visualization. It provides a robust environment for conducting in-depth analysis and exploration of climate-related datasets. To learn more about WEkEO and its offerings, visit their [website](https://www.wekeo.eu/).\n",
    "\n",
    "[Run this notebook on WEKEO](https://www.wekeo.eu/) \n",
    "\n",
    "### Possible Cloud Services\n",
    "\n",
    "While Kaggle, Binder, and Colab are popular options for running notebooks in the cloud, it's essential to note that these are just a few among many available choices. Each platform has its unique features and capabilities, catering to diverse user needs and preferences.\n",
    "\n",
    "\n",
    "\n",
    "| **Kaggle** | **Binder** | **Colab** |\n",
    "|:----------:|:---------:|:--------:|\n",
    "| [![Kaggle](https://kaggle.com/static/images/open-in-kaggle.svg)](https://kaggle.com/kernels/welcome?src=https://github.com/Randbee/projections-cmip6/blob/master/projections-cmip6.ipynb) | [![Binder](https://mybinder.org/badge.svg)](https://mybinder.org/v2/gh/Randbee/projections-cmip6/master?labpath=projections-cmip6.ipynb) | [![Colab](https://colab.research.google.com/assets/colab-badge.svg)](https://colab.research.google.com/github/Randbee/projections-cmip6/blob/master/projections-cmip6.ipynb) |\n",
    ":::"
   ]
  },
  {
   "cell_type": "markdown",
   "metadata": {},
   "source": [
    "<hr>"
   ]
  },
  {
   "cell_type": "markdown",
   "metadata": {
    "editable": true,
    "slideshow": {
     "slide_type": ""
    },
    "tags": [
     "outline"
    ]
   },
   "source": [
    "\n",
    "## Outline\n",
    "\n",
    "1. Import the necessary libraries\n",
    "2. Access data with the CDS API\n",
    "3. Unzip the downloaded data files\n",
    "4. Load and prepare CMIP6 data for one model and one experiment\n",
    "    1. Load and inspect data\n",
    "    2. Spatial aggregation\n",
    "    3. Temporal aggregation\n",
    "    4. Conversion from Keelvin to Celsius\n",
    "    5. Creation of additional data dimensions\n",
    "6. Load and prepare CMIP6 data for all models and experiments\n",
    "7. Visualize CMIP6 annual global average temperature between 1850 to 2100\n",
    "    1. Calculate quantiles for model ensemble\n",
    "    2. View time-series"
   ]
  },
  {
   "cell_type": "markdown",
   "metadata": {},
   "source": [
    "<hr>"
   ]
  },
  {
   "cell_type": "markdown",
   "metadata": {},
   "source": [
    "## 1. Import the necessary libraries"
   ]
  },
  {
   "cell_type": "markdown",
   "metadata": {},
   "source": [
    "For downloading the data from the CDS we will need [cdsapi](https://pypi.org/project/cdsapi/). We will be working with data in NetCDF format. To best handle this data we will use libraries for working with multidimensional arrays, in particular [xarray](https://docs.xarray.dev/en/stable/), and [pandas](https://pandas.pydata.org/) to work with dataframes. We will also need libraries for plotting and viewing data, in this case we will use [matplotlib](https://matplotlib.org/) and [cartopy](https://scitools.org.uk/cartopy/docs/latest/).\n",
    "If you don't have any of the following libraries, you must install it. You can do it like this:"
   ]
  },
  {
   "cell_type": "code",
   "execution_count": 25,
   "metadata": {},
   "outputs": [
    {
     "name": "stdout",
     "output_type": "stream",
     "text": [
      "Collecting dask\n",
      "  Downloading dask-2024.6.2-py3-none-any.whl.metadata (3.8 kB)\n",
      "Requirement already satisfied: click>=8.1 in /Library/Frameworks/Python.framework/Versions/3.12/lib/python3.12/site-packages (from dask) (8.1.7)\n",
      "Collecting cloudpickle>=1.5.0 (from dask)\n",
      "  Downloading cloudpickle-3.0.0-py3-none-any.whl.metadata (7.0 kB)\n",
      "Collecting fsspec>=2021.09.0 (from dask)\n",
      "  Downloading fsspec-2024.6.0-py3-none-any.whl.metadata (11 kB)\n",
      "Requirement already satisfied: packaging>=20.0 in /Library/Frameworks/Python.framework/Versions/3.12/lib/python3.12/site-packages (from dask) (23.2)\n",
      "Collecting partd>=1.2.0 (from dask)\n",
      "  Downloading partd-1.4.2-py3-none-any.whl.metadata (4.6 kB)\n",
      "Requirement already satisfied: pyyaml>=5.3.1 in /Library/Frameworks/Python.framework/Versions/3.12/lib/python3.12/site-packages (from dask) (6.0.1)\n",
      "Collecting toolz>=0.10.0 (from dask)\n",
      "  Downloading toolz-0.12.1-py3-none-any.whl.metadata (5.1 kB)\n",
      "Collecting locket (from partd>=1.2.0->dask)\n",
      "  Downloading locket-1.0.0-py2.py3-none-any.whl.metadata (2.8 kB)\n",
      "Downloading dask-2024.6.2-py3-none-any.whl (1.2 MB)\n",
      "\u001b[2K   \u001b[90m━━━━━━━━━━━━━━━━━━━━━━━━━━━━━━━━━━━━━━━━\u001b[0m \u001b[32m1.2/1.2 MB\u001b[0m \u001b[31m5.1 MB/s\u001b[0m eta \u001b[36m0:00:00\u001b[0m00:01\u001b[0m00:01\u001b[0m\n",
      "\u001b[?25hDownloading cloudpickle-3.0.0-py3-none-any.whl (20 kB)\n",
      "Downloading fsspec-2024.6.0-py3-none-any.whl (176 kB)\n",
      "\u001b[2K   \u001b[90m━━━━━━━━━━━━━━━━━━━━━━━━━━━━━━━━━━━━━━━━\u001b[0m \u001b[32m176.9/176.9 kB\u001b[0m \u001b[31m6.9 MB/s\u001b[0m eta \u001b[36m0:00:00\u001b[0m\n",
      "\u001b[?25hDownloading partd-1.4.2-py3-none-any.whl (18 kB)\n",
      "Downloading toolz-0.12.1-py3-none-any.whl (56 kB)\n",
      "\u001b[2K   \u001b[90m━━━━━━━━━━━━━━━━━━━━━━━━━━━━━━━━━━━━━━━━\u001b[0m \u001b[32m56.1/56.1 kB\u001b[0m \u001b[31m5.3 MB/s\u001b[0m eta \u001b[36m0:00:00\u001b[0m\n",
      "\u001b[?25hDownloading locket-1.0.0-py2.py3-none-any.whl (4.4 kB)\n",
      "Installing collected packages: toolz, locket, fsspec, cloudpickle, partd, dask\n",
      "Successfully installed cloudpickle-3.0.0 dask-2024.6.2 fsspec-2024.6.0 locket-1.0.0 partd-1.4.2 toolz-0.12.1\n",
      "\n",
      "\u001b[1m[\u001b[0m\u001b[34;49mnotice\u001b[0m\u001b[1;39;49m]\u001b[0m\u001b[39;49m A new release of pip is available: \u001b[0m\u001b[31;49m24.0\u001b[0m\u001b[39;49m -> \u001b[0m\u001b[32;49m24.1.1\u001b[0m\n",
      "\u001b[1m[\u001b[0m\u001b[34;49mnotice\u001b[0m\u001b[1;39;49m]\u001b[0m\u001b[39;49m To update, run: \u001b[0m\u001b[32;49mpip install --upgrade pip\u001b[0m\n"
     ]
    }
   ],
   "source": [
    "!pip install dask"
   ]
  },
  {
   "cell_type": "markdown",
   "metadata": {},
   "source": [
    "If you need to install dask, then you must **restart your Kernel** before continuing. For that, go the the `Kernel` tab above."
   ]
  },
  {
   "cell_type": "markdown",
   "metadata": {},
   "source": [
    "<div class=\"alert alert-block alert-success\">\n",
    "<b>NOTE</b>: <br>\n",
    "    Note the exclamation mark in the line of code above. This means the code will run as a shell (as opposed to a notebook) command.</div>"
   ]
  },
  {
   "cell_type": "markdown",
   "metadata": {},
   "source": [
    "<div class=\"alert alert-block alert-success\">\n",
    "<b>NOTE</b>: <br>\n",
    "    If you are having trouble to work with the xarray library, check the C3S tutorial on climatologies for detailed help.</div>"
   ]
  },
  {
   "cell_type": "code",
   "execution_count": 1,
   "metadata": {},
   "outputs": [],
   "source": [
    "# General libs for file paths, data extraction, etc\n",
    "from glob import glob\n",
    "from pathlib import Path\n",
    "import os\n",
    "from os.path import basename\n",
    "import zipfile # To extract zipfiles\n",
    "import urllib3 \n",
    "urllib3.disable_warnings() # Disable warnings for data download via API\n",
    "\n",
    "# CDS API\n",
    "import cdsapi\n",
    "\n",
    "# Libraries for working with multi-dimensional arrays\n",
    "import numpy as np\n",
    "import xarray as xr\n",
    "import pandas as pd\n",
    "import dask\n",
    "\n",
    "# Libraries for plotting and visualising data\n",
    "import matplotlib.path as mpath\n",
    "import matplotlib.pyplot as plt\n",
    "import cartopy.crs as ccrs\n",
    "from cartopy.mpl.gridliner import LONGITUDE_FORMATTER, LATITUDE_FORMATTER\n",
    "import cartopy.feature as cfeature"
   ]
  },
  {
   "cell_type": "markdown",
   "metadata": {},
   "source": [
    "<hr>"
   ]
  },
  {
   "cell_type": "markdown",
   "metadata": {},
   "source": [
    "## 2. Access data with the CDS API"
   ]
  },
  {
   "cell_type": "markdown",
   "metadata": {},
   "source": [
    "To access data from the CDS, you will need first to [register](https://cds.climate.copernicus.eu/#!/home) at the ADS registration page (if you haven't already done so), [log in](https://cds.climate.copernicus.eu/user/login), and accept the Terms and Conditions at the end of the `Download data` tab.<br>\n",
    "\n",
    "To obtain data programmatically from the CDS, you will need an API Key that can be found in the [api-how-to page](https://cds.climate.copernicus.eu/api-how-to). Here your key will appear automatically in the black window, assuming you have already registered and logged into the ADS. Your API key is the entire string of characters that appears after `key:`\n",
    "\n",
    "Now copy your API key into the code cell below, replacing `#######` with your key."
   ]
  },
  {
   "cell_type": "code",
   "execution_count": 2,
   "metadata": {},
   "outputs": [],
   "source": [
    "URL = 'https://cds.climate.copernicus.eu/api/v2'\n",
    "KEY = '##################################'"
   ]
  },
  {
   "cell_type": "markdown",
   "metadata": {},
   "source": [
    "Here we specify a data directory in which we will download our data and all output files that we will generate:"
   ]
  },
  {
   "cell_type": "code",
   "execution_count": 3,
   "metadata": {},
   "outputs": [],
   "source": [
    "DATADIR = './'"
   ]
  },
  {
   "cell_type": "markdown",
   "metadata": {},
   "source": [
    "The next step is then to request the data with the help of the CDS API. Below, we loop through multiple data requests. These include data for different models and scenarios. It is not possible to specify multiple models in one data request as their spatial resolution varies.\n",
    "\n",
    "We will download monthly aggregated data. These are disseminated as netcdf files within a zip archive.\n",
    "\n",
    "In order to loop through the various experiments and models in our data requests, we will specify them as Python 'lists' here:"
   ]
  },
  {
   "cell_type": "code",
   "execution_count": 23,
   "metadata": {},
   "outputs": [],
   "source": [
    "experiments = ['historical', 'ssp126', 'ssp245', 'ssp585']"
   ]
  },
  {
   "cell_type": "code",
   "execution_count": 24,
   "metadata": {},
   "outputs": [],
   "source": [
    "models = ['hadgem3_gc31_ll', 'inm_cm5_0', 'inm_cm4_8', 'ipsl_cm6a_lr', \n",
    "          'miroc_es2l', 'mpi_esm1_2_lr', 'ukesm1_0_ll']"
   ]
  },
  {
   "cell_type": "markdown",
   "metadata": {},
   "source": [
    "<div class=\"alert alert-block alert-success\">\n",
    "    <b>NOTE</b>: </br>\n",
    "    Note that these are a selection of the lightest models (in terms of data volume), to facilitate download for the sake of this exercise. There are many <a href=\"https://cds.climate.copernicus.eu/cdsapp#!/dataset/projections-cmip6?tab=overview\">more models available on the CDS</a>.</div>"
   ]
  },
  {
   "cell_type": "markdown",
   "metadata": {},
   "source": [
    "Now we can download the data for each model and experiment sequentially. We will do this separately for the historical experiments and for the various future scenarios, given that they refer to two different time periods.\n",
    "In the `Download data` tab, we will select the following parameters to download:\n",
    "\n",
    "- **Data**: `CMIP6 global climate projections of near-surface air temperature`<br>\n",
    "- **Experiments**: `Historical`, `SSP1-2.6`, `SSP2-4.5`, `SSP5-8.5` <br>\n",
    "- **Models**: 7 models from Germany, France, UK, Japan and Russia represented in the `models` list <br>\n",
    "- **Temporal range**: Historical: `1850 - 2014`. Scenarios: `2015 - 2100` <br>\n",
    "- **Spatial coverage**: `Global` <br>\n",
    "- **Format**: `NetCDF`, compressed into zip files\n",
    "\n",
    "And this is the time when you must accept the Terms and Conditions that are at the bottom of this page."
   ]
  },
  {
   "cell_type": "code",
   "execution_count": 7,
   "metadata": {},
   "outputs": [
    {
     "name": "stderr",
     "output_type": "stream",
     "text": [
      "2024-06-27 11:14:26,491 INFO Welcome to the CDS\n",
      "2024-06-27 11:14:26,492 INFO Sending request to https://cds.climate.copernicus.eu/api/v2/resources/projections-cmip6\n",
      "2024-06-27 11:14:26,702 INFO Request is queued\n",
      "2024-06-27 11:14:27,758 INFO Request is running\n",
      "2024-06-27 11:14:40,168 INFO Request is completed\n",
      "2024-06-27 11:14:40,169 INFO Downloading https://download-0000-clone.copernicus-climate.eu/cache-compute-0000/cache/data8/adaptor.esgf_wps.retrieve-1719479674.075813-9693-6-cdc6b06e-2328-4f58-943a-996154993c91.zip to ./cmip6_monthly_1850-2014_historical_hadgem3_gc31_ll.zip (114.1M)\n",
      "2024-06-27 11:15:03,120 INFO Download rate 5M/s                                 \n",
      "2024-06-27 11:15:03,220 INFO Welcome to the CDS\n",
      "2024-06-27 11:15:03,222 INFO Sending request to https://cds.climate.copernicus.eu/api/v2/resources/projections-cmip6\n",
      "2024-06-27 11:15:03,457 INFO Request is queued\n",
      "2024-06-27 11:15:04,514 INFO Request is running\n",
      "2024-06-27 11:15:16,922 INFO Request is completed\n",
      "2024-06-27 11:15:16,924 INFO Downloading https://download-0015-clone.copernicus-climate.eu/cache-compute-0015/cache/data7/adaptor.esgf_wps.retrieve-1719479707.7181854-27329-16-e2535f7a-94c7-4e7c-85d2-6f0c5c1d62fb.zip to ./cmip6_monthly_1850-2014_historical_inm_cm5_0.zip (96.5M)\n",
      "2024-06-27 11:15:34,964 INFO Download rate 5.3M/s                               \n",
      "2024-06-27 11:15:35,061 INFO Welcome to the CDS\n",
      "2024-06-27 11:15:35,062 INFO Sending request to https://cds.climate.copernicus.eu/api/v2/resources/projections-cmip6\n",
      "2024-06-27 11:15:35,252 INFO Request is queued\n",
      "2024-06-27 11:15:36,306 INFO Request is running\n",
      "2024-06-27 11:15:48,714 INFO Request is completed\n",
      "2024-06-27 11:15:48,716 INFO Downloading https://download-0011-clone.copernicus-climate.eu/cache-compute-0011/cache/data5/adaptor.esgf_wps.retrieve-1719479739.5302129-29743-15-90c652dc-d2dd-4a1a-ae1a-75d2e0915ab7.zip to ./cmip6_monthly_1850-2014_historical_inm_cm4_8.zip (96.6M)\n",
      "2024-06-27 11:16:11,268 INFO Download rate 4.3M/s                               \n",
      "2024-06-27 11:16:11,366 INFO Welcome to the CDS\n",
      "2024-06-27 11:16:11,367 INFO Sending request to https://cds.climate.copernicus.eu/api/v2/resources/projections-cmip6\n",
      "2024-06-27 11:16:11,548 INFO Request is queued\n",
      "2024-06-27 11:16:12,599 INFO Request is running\n",
      "2024-06-27 11:16:25,021 INFO Request is completed\n",
      "2024-06-27 11:16:25,023 INFO Downloading https://download-0009-clone.copernicus-climate.eu/cache-compute-0009/cache/data9/adaptor.esgf_wps.retrieve-1719479778.9748197-5265-11-b9635f55-9383-4cfa-9caa-bcb97d3da2aa.zip to ./cmip6_monthly_1850-2014_historical_ipsl_cm6a_lr.zip (91.1M)\n",
      "2024-06-27 11:16:50,378 INFO Download rate 3.6M/s                               \n",
      "2024-06-27 11:16:50,476 INFO Welcome to the CDS\n",
      "2024-06-27 11:16:50,477 INFO Sending request to https://cds.climate.copernicus.eu/api/v2/resources/projections-cmip6\n",
      "2024-06-27 11:16:50,630 INFO Request is queued\n",
      "2024-06-27 11:16:51,686 INFO Request is running\n",
      "2024-06-27 11:17:04,098 INFO Request is completed\n",
      "2024-06-27 11:17:04,100 INFO Downloading https://download-0009-clone.copernicus-climate.eu/cache-compute-0009/cache/data2/adaptor.esgf_wps.retrieve-1719479817.999824-31091-12-538377db-2c13-4b86-abd6-5c10567a798a.zip to ./cmip6_monthly_1850-2014_historical_miroc_es2l.zip (35.7M)\n",
      "2024-06-27 11:17:15,669 INFO Download rate 3.1M/s                               \n",
      "2024-06-27 11:17:15,763 INFO Welcome to the CDS\n",
      "2024-06-27 11:17:15,765 INFO Sending request to https://cds.climate.copernicus.eu/api/v2/resources/projections-cmip6\n",
      "2024-06-27 11:17:15,917 INFO Request is queued\n",
      "2024-06-27 11:17:16,976 INFO Request is running\n",
      "2024-06-27 11:17:37,037 INFO Request is completed\n",
      "2024-06-27 11:17:37,038 INFO Downloading https://download-0019.copernicus-climate.eu/cache-compute-0019/cache/data4/adaptor.esgf_wps.retrieve-1719479843.4658937-5221-9-cab367d2-e85c-4064-89ce-79efad3e9884.zip to ./cmip6_monthly_1850-2014_historical_mpi_esm1_2_lr.zip (63.6M)\n",
      "2024-06-27 11:17:55,857 INFO Download rate 3.4M/s                               \n",
      "2024-06-27 11:17:55,955 INFO Welcome to the CDS\n",
      "2024-06-27 11:17:55,956 INFO Sending request to https://cds.climate.copernicus.eu/api/v2/resources/projections-cmip6\n",
      "2024-06-27 11:17:56,138 INFO Request is queued\n",
      "2024-06-27 11:17:57,195 INFO Request is running\n",
      "2024-06-27 11:18:17,257 INFO Request is completed\n",
      "2024-06-27 11:18:17,259 INFO Downloading https://download-0015-clone.copernicus-climate.eu/cache-compute-0015/cache/data6/adaptor.esgf_wps.retrieve-1719479880.5541074-28012-15-ec1c2211-614a-4522-8ca3-e1e67b51b576.zip to ./cmip6_monthly_1850-2014_historical_ukesm1_0_ll.zip (220.4M)\n",
      "2024-06-27 11:19:59,819 INFO Download rate 2.1M/s                               \n"
     ]
    }
   ],
   "source": [
    "# DOWNLOAD DATA FOR HISTORICAL PERIOD\n",
    "\n",
    "c = cdsapi.Client(url=URL, key=KEY)\n",
    "\n",
    "for j in models:\n",
    "    c.retrieve(\n",
    "        'projections-cmip6',\n",
    "        {\n",
    "            'format': 'zip',\n",
    "            'temporal_resolution': 'monthly',\n",
    "            'experiment': 'historical',\n",
    "            'level': 'single_levels',\n",
    "            'variable': 'near_surface_air_temperature',\n",
    "            'model': f'{j}',\n",
    "            'date': '1850-01-01/2014-12-31',\n",
    "        },\n",
    "        f'{DATADIR}cmip6_monthly_1850-2014_historical_{j}.zip')"
   ]
  },
  {
   "cell_type": "code",
   "execution_count": 8,
   "metadata": {},
   "outputs": [
    {
     "name": "stderr",
     "output_type": "stream",
     "text": [
      "2024-06-27 11:20:00,085 INFO Welcome to the CDS\n",
      "2024-06-27 11:20:00,087 INFO Sending request to https://cds.climate.copernicus.eu/api/v2/resources/projections-cmip6\n",
      "2024-06-27 11:20:00,333 INFO Request is queued\n",
      "2024-06-27 11:20:01,383 INFO Request is running\n",
      "2024-06-27 11:20:13,781 INFO Request is completed\n",
      "2024-06-27 11:20:13,783 INFO Downloading https://download-0013-clone.copernicus-climate.eu/cache-compute-0013/cache/data6/adaptor.esgf_wps.retrieve-1719480004.7341053-31229-17-13ab3c16-cb97-43ee-aee3-ffd20a5afb17.zip to ./cmip6_monthly_2015-2100_ssp126_hadgem3_gc31_ll.zip (55.4M)\n",
      "2024-06-27 11:20:26,611 INFO Download rate 4.3M/s                               \n",
      "2024-06-27 11:20:26,699 INFO Welcome to the CDS\n",
      "2024-06-27 11:20:26,700 INFO Sending request to https://cds.climate.copernicus.eu/api/v2/resources/projections-cmip6\n",
      "2024-06-27 11:20:26,837 INFO Request is queued\n",
      "2024-06-27 11:20:27,889 INFO Request is running\n",
      "2024-06-27 11:20:35,174 INFO Request is completed\n",
      "2024-06-27 11:20:35,175 INFO Downloading https://download-0002-clone.copernicus-climate.eu/cache-compute-0002/cache/data0/adaptor.esgf_wps.retrieve-1719480031.1480098-16398-8-1f690240-8e0a-4cbb-9462-3eb8e5c13050.zip to ./cmip6_monthly_2015-2100_ssp126_inm_cm5_0.zip (50.3M)\n",
      "2024-06-27 11:20:46,185 INFO Download rate 4.6M/s                               \n",
      "2024-06-27 11:20:46,275 INFO Welcome to the CDS\n",
      "2024-06-27 11:20:46,276 INFO Sending request to https://cds.climate.copernicus.eu/api/v2/resources/projections-cmip6\n",
      "2024-06-27 11:20:46,425 INFO Request is queued\n",
      "2024-06-27 11:20:47,481 INFO Request is running\n",
      "2024-06-27 11:20:59,874 INFO Request is completed\n",
      "2024-06-27 11:20:59,876 INFO Downloading https://download-0012-clone.copernicus-climate.eu/cache-compute-0012/cache/data5/adaptor.esgf_wps.retrieve-1719480050.6298327-3184-6-69a9257e-4a32-4670-b833-63140f96c60f.zip to ./cmip6_monthly_2015-2100_ssp126_inm_cm4_8.zip (50.2M)\n",
      "2024-06-27 11:21:13,916 INFO Download rate 3.6M/s                               \n",
      "2024-06-27 11:21:14,007 INFO Welcome to the CDS\n",
      "2024-06-27 11:21:14,008 INFO Sending request to https://cds.climate.copernicus.eu/api/v2/resources/projections-cmip6\n",
      "2024-06-27 11:21:14,235 INFO Downloading https://download-0007-clone.copernicus-climate.eu/cache-compute-0007/cache/data6/adaptor.esgf_wps.retrieve-1713814342.9141424-17489-18-96548268-d366-4593-aa85-337834028fba.zip to ./cmip6_monthly_2015-2100_ssp126_ipsl_cm6a_lr.zip (47.4M)\n",
      "2024-06-27 11:21:26,144 INFO Download rate 4M/s                                 \n",
      "2024-06-27 11:21:26,232 INFO Welcome to the CDS\n",
      "2024-06-27 11:21:26,233 INFO Sending request to https://cds.climate.copernicus.eu/api/v2/resources/projections-cmip6\n",
      "2024-06-27 11:21:26,413 INFO Request is queued\n",
      "2024-06-27 11:21:27,465 INFO Request is running\n",
      "2024-06-27 11:21:34,739 INFO Request is completed\n",
      "2024-06-27 11:21:34,741 INFO Downloading https://download-0017.copernicus-climate.eu/cache-compute-0017/cache/data4/adaptor.esgf_wps.retrieve-1719480090.6684303-30947-9-aed2cf91-c3c2-4aa3-88bd-a187a939486e.zip to ./cmip6_monthly_2015-2100_ssp126_miroc_es2l.zip (18.7M)\n",
      "2024-06-27 11:21:40,502 INFO Download rate 3.2M/s                               \n",
      "2024-06-27 11:21:40,591 INFO Welcome to the CDS\n",
      "2024-06-27 11:21:40,592 INFO Sending request to https://cds.climate.copernicus.eu/api/v2/resources/projections-cmip6\n",
      "2024-06-27 11:21:40,758 INFO Request is queued\n",
      "2024-06-27 11:21:41,812 INFO Request is running\n",
      "2024-06-27 11:21:49,093 INFO Request is completed\n",
      "2024-06-27 11:21:49,094 INFO Downloading https://download-0000-clone.copernicus-climate.eu/cache-compute-0000/cache/data4/adaptor.esgf_wps.retrieve-1719480105.070986-8727-19-4c5e33b6-6197-4700-9a62-0314dde5b784.zip to ./cmip6_monthly_2015-2100_ssp126_mpi_esm1_2_lr.zip (33.2M)\n",
      "2024-06-27 11:21:55,163 INFO Download rate 5.5M/s                               \n",
      "2024-06-27 11:21:55,253 INFO Welcome to the CDS\n",
      "2024-06-27 11:21:55,254 INFO Sending request to https://cds.climate.copernicus.eu/api/v2/resources/projections-cmip6\n",
      "2024-06-27 11:21:55,439 INFO Request is queued\n",
      "2024-06-27 11:21:56,495 INFO Request is running\n",
      "2024-06-27 11:22:03,776 INFO Request is completed\n",
      "2024-06-27 11:22:03,777 INFO Downloading https://download-0013-clone.copernicus-climate.eu/cache-compute-0013/cache/data8/adaptor.esgf_wps.retrieve-1719480119.6222765-523-11-b1fa430c-e73f-40b7-9f07-facaa41bb2c9.zip to ./cmip6_monthly_2015-2100_ssp126_ukesm1_0_ll.zip (63.4M)\n",
      "2024-06-27 11:22:14,656 INFO Download rate 5.8M/s                               \n",
      "2024-06-27 11:22:14,747 INFO Welcome to the CDS\n",
      "2024-06-27 11:22:14,748 INFO Sending request to https://cds.climate.copernicus.eu/api/v2/resources/projections-cmip6\n",
      "2024-06-27 11:22:14,896 INFO Request is queued\n",
      "2024-06-27 11:22:15,950 INFO Request is running\n",
      "2024-06-27 11:22:35,989 INFO Request is completed\n",
      "2024-06-27 11:22:35,991 INFO Downloading https://download-0004-clone.copernicus-climate.eu/cache-compute-0004/cache/data7/adaptor.esgf_wps.retrieve-1719480139.1795943-3688-18-026840af-df82-4619-aced-941752a3dee7.zip to ./cmip6_monthly_2015-2100_ssp245_hadgem3_gc31_ll.zip (55.3M)\n",
      "2024-06-27 11:22:47,645 INFO Download rate 4.7M/s                               \n",
      "2024-06-27 11:22:47,734 INFO Welcome to the CDS\n",
      "2024-06-27 11:22:47,735 INFO Sending request to https://cds.climate.copernicus.eu/api/v2/resources/projections-cmip6\n",
      "2024-06-27 11:22:47,977 INFO Downloading https://download-0021.copernicus-climate.eu/cache-compute-0021/cache/data6/adaptor.esgf_wps.retrieve-1710206192.4122436-25800-9-aafc87a7-acf1-47e1-be3d-9865394cee76.zip to ./cmip6_monthly_2015-2100_ssp245_inm_cm5_0.zip (50.2M)\n",
      "2024-06-27 11:23:09,531 INFO Download rate 2.3M/s                               \n",
      "2024-06-27 11:23:09,619 INFO Welcome to the CDS\n",
      "2024-06-27 11:23:09,621 INFO Sending request to https://cds.climate.copernicus.eu/api/v2/resources/projections-cmip6\n",
      "2024-06-27 11:23:09,769 INFO Request is queued\n",
      "2024-06-27 11:23:10,826 INFO Request is running\n",
      "2024-06-27 11:23:18,107 INFO Request is completed\n",
      "2024-06-27 11:23:18,109 INFO Downloading https://download-0010-clone.copernicus-climate.eu/cache-compute-0010/cache/data0/adaptor.esgf_wps.retrieve-1719480194.001044-934-14-04e4c2ff-456f-4c60-92e9-f0637edfd7c5.zip to ./cmip6_monthly_2015-2100_ssp245_inm_cm4_8.zip (50.2M)\n",
      "2024-06-27 11:23:33,871 INFO Download rate 3.2M/s                               \n",
      "2024-06-27 11:23:33,959 INFO Welcome to the CDS\n",
      "2024-06-27 11:23:33,960 INFO Sending request to https://cds.climate.copernicus.eu/api/v2/resources/projections-cmip6\n",
      "2024-06-27 11:23:34,132 INFO Request is queued\n",
      "2024-06-27 11:23:35,186 INFO Request is running\n",
      "2024-06-27 11:23:42,472 INFO Request is completed\n",
      "2024-06-27 11:23:42,473 INFO Downloading https://download-0010-clone.copernicus-climate.eu/cache-compute-0010/cache/data5/adaptor.esgf_wps.retrieve-1719480218.3890624-950-14-92434280-efe9-48f8-9578-82406b2e45ef.zip to ./cmip6_monthly_2015-2100_ssp245_ipsl_cm6a_lr.zip (47.4M)\n",
      "2024-06-27 11:24:02,950 INFO Download rate 2.3M/s                               \n",
      "2024-06-27 11:24:03,040 INFO Welcome to the CDS\n",
      "2024-06-27 11:24:03,042 INFO Sending request to https://cds.climate.copernicus.eu/api/v2/resources/projections-cmip6\n",
      "2024-06-27 11:24:03,339 INFO Downloading https://download-0019.copernicus-climate.eu/cache-compute-0019/cache/data2/adaptor.esgf_wps.retrieve-1719306627.8710346-21615-12-ab1c7121-104e-422a-a44d-2c5c39e7eb03.zip to ./cmip6_monthly_2015-2100_ssp245_miroc_es2l.zip (18.7M)\n",
      "2024-06-27 11:24:08,079 INFO Download rate 3.9M/s                               \n",
      "2024-06-27 11:24:08,169 INFO Welcome to the CDS\n",
      "2024-06-27 11:24:08,171 INFO Sending request to https://cds.climate.copernicus.eu/api/v2/resources/projections-cmip6\n",
      "2024-06-27 11:24:08,322 INFO Request is queued\n",
      "2024-06-27 11:24:09,377 INFO Request is running\n",
      "2024-06-27 11:24:21,778 INFO Request is completed\n",
      "2024-06-27 11:24:21,779 INFO Downloading https://download-0008-clone.copernicus-climate.eu/cache-compute-0008/cache/data4/adaptor.esgf_wps.retrieve-1719480255.8133016-10407-7-89d7e819-d75b-4cf7-9e80-d0ac39198eb4.zip to ./cmip6_monthly_2015-2100_ssp245_mpi_esm1_2_lr.zip (33.2M)\n",
      "2024-06-27 11:24:32,167 INFO Download rate 3.2M/s                               \n",
      "2024-06-27 11:24:32,258 INFO Welcome to the CDS\n",
      "2024-06-27 11:24:32,259 INFO Sending request to https://cds.climate.copernicus.eu/api/v2/resources/projections-cmip6\n",
      "2024-06-27 11:24:32,497 INFO Downloading https://download-0007-clone.copernicus-climate.eu/cache-compute-0007/cache/data7/adaptor.esgf_wps.retrieve-1712440865.8887649-1228-19-8b22f2ed-085d-472a-afe5-07506c652afc.zip to ./cmip6_monthly_2015-2100_ssp245_ukesm1_0_ll.zip (118.6M)\n",
      "2024-06-27 11:24:49,243 INFO Download rate 7.1M/s                               \n",
      "2024-06-27 11:24:49,333 INFO Welcome to the CDS\n",
      "2024-06-27 11:24:49,334 INFO Sending request to https://cds.climate.copernicus.eu/api/v2/resources/projections-cmip6\n",
      "2024-06-27 11:24:49,625 INFO Request is queued\n",
      "2024-06-27 11:24:50,687 INFO Request is running\n",
      "2024-06-27 11:24:57,969 INFO Request is completed\n",
      "2024-06-27 11:24:57,970 INFO Downloading https://download-0019.copernicus-climate.eu/cache-compute-0019/cache/data5/adaptor.esgf_wps.retrieve-1719480293.847178-23650-18-f3d1a138-f289-4aa2-92e8-e9888a77db40.zip to ./cmip6_monthly_2015-2100_ssp585_hadgem3_gc31_ll.zip (55.3M)\n",
      "2024-06-27 11:25:09,305 INFO Download rate 4.9M/s                               \n",
      "2024-06-27 11:25:09,393 INFO Welcome to the CDS\n",
      "2024-06-27 11:25:09,395 INFO Sending request to https://cds.climate.copernicus.eu/api/v2/resources/projections-cmip6\n",
      "2024-06-27 11:25:09,569 INFO Request is queued\n",
      "2024-06-27 11:25:10,623 INFO Request is running\n",
      "2024-06-27 11:25:23,225 INFO Request is completed\n",
      "2024-06-27 11:25:23,227 INFO Downloading https://download-0004-clone.copernicus-climate.eu/cache-compute-0004/cache/data1/adaptor.esgf_wps.retrieve-1719480313.9066012-15198-14-0f8ab97f-e158-4adc-afa1-408e7d146cd0.zip to ./cmip6_monthly_2015-2100_ssp585_inm_cm5_0.zip (66M)\n",
      "2024-06-27 11:25:49,401 INFO Download rate 2.5M/s                               \n",
      "2024-06-27 11:25:49,501 INFO Welcome to the CDS\n",
      "2024-06-27 11:25:49,503 INFO Sending request to https://cds.climate.copernicus.eu/api/v2/resources/projections-cmip6\n",
      "2024-06-27 11:25:49,757 INFO Request is queued\n",
      "2024-06-27 11:25:50,817 INFO Request is running\n",
      "2024-06-27 11:25:58,120 INFO Request is completed\n",
      "2024-06-27 11:25:58,121 INFO Downloading https://download-0016.copernicus-climate.eu/cache-compute-0016/cache/data4/adaptor.esgf_wps.retrieve-1719480354.3229218-11663-16-9c40b37a-4ad0-4c83-b846-a9beee6fa3f7.zip to ./cmip6_monthly_2015-2100_ssp585_inm_cm4_8.zip (50.1M)\n",
      "2024-06-27 11:26:13,406 INFO Download rate 3.3M/s                               \n",
      "2024-06-27 11:26:13,507 INFO Welcome to the CDS\n",
      "2024-06-27 11:26:13,509 INFO Sending request to https://cds.climate.copernicus.eu/api/v2/resources/projections-cmip6\n",
      "2024-06-27 11:26:13,655 INFO Request is queued\n",
      "2024-06-27 11:26:14,717 INFO Request is running\n",
      "2024-06-27 11:26:22,015 INFO Request is completed\n",
      "2024-06-27 11:26:22,017 INFO Downloading https://download-0010-clone.copernicus-climate.eu/cache-compute-0010/cache/data1/adaptor.esgf_wps.retrieve-1719480378.0158186-29754-19-cd1268ac-4cd2-4e9f-861f-1c89e730b4ea.zip to ./cmip6_monthly_2015-2100_ssp585_ipsl_cm6a_lr.zip (47.3M)\n",
      "2024-06-27 11:26:29,564 INFO Download rate 6.3M/s                               \n",
      "2024-06-27 11:26:29,670 INFO Welcome to the CDS\n",
      "2024-06-27 11:26:29,672 INFO Sending request to https://cds.climate.copernicus.eu/api/v2/resources/projections-cmip6\n",
      "2024-06-27 11:26:29,813 INFO Request is queued\n",
      "2024-06-27 11:26:30,872 INFO Request is running\n",
      "2024-06-27 11:26:38,168 INFO Request is completed\n",
      "2024-06-27 11:26:38,170 INFO Downloading https://download-0006-clone.copernicus-climate.eu/cache-compute-0006/cache/data5/adaptor.esgf_wps.retrieve-1719480394.2181084-22109-17-773545b5-31b8-4b5d-a881-a28edfb8df73.zip to ./cmip6_monthly_2015-2100_ssp585_miroc_es2l.zip (18.6M)\n",
      "2024-06-27 11:26:42,665 INFO Download rate 4.1M/s                               \n",
      "2024-06-27 11:26:42,763 INFO Welcome to the CDS\n",
      "2024-06-27 11:26:42,764 INFO Sending request to https://cds.climate.copernicus.eu/api/v2/resources/projections-cmip6\n",
      "2024-06-27 11:26:42,956 INFO Downloading https://download-0004-clone.copernicus-climate.eu/cache-compute-0004/cache/data9/adaptor.esgf_wps.retrieve-1719306784.6103451-7619-18-1215824f-d2ed-47f9-94b0-0226eac0ab10.zip to ./cmip6_monthly_2015-2100_ssp585_mpi_esm1_2_lr.zip (33.1M)\n",
      "2024-06-27 11:26:55,019 INFO Download rate 2.7M/s                               \n",
      "2024-06-27 11:26:55,123 INFO Welcome to the CDS\n",
      "2024-06-27 11:26:55,124 INFO Sending request to https://cds.climate.copernicus.eu/api/v2/resources/projections-cmip6\n",
      "2024-06-27 11:26:55,316 INFO Request is queued\n",
      "2024-06-27 11:26:56,375 INFO Request is running\n",
      "2024-06-27 11:27:08,796 INFO Request is completed\n",
      "2024-06-27 11:27:08,798 INFO Downloading https://download-0006-clone.copernicus-climate.eu/cache-compute-0006/cache/data8/adaptor.esgf_wps.retrieve-1719480422.6486294-22107-12-4044be8c-bea5-4384-96d7-4bd5d1bad641.zip to ./cmip6_monthly_2015-2100_ssp585_ukesm1_0_ll.zip (63.3M)\n",
      "2024-06-27 11:27:23,571 INFO Download rate 4.3M/s                               \n"
     ]
    }
   ],
   "source": [
    "# DOWNLOAD DATA FOR FUTURE SCENARIOS\n",
    "\n",
    "c = cdsapi.Client(url=URL, key=KEY)\n",
    "\n",
    "for i in experiments[1:]:\n",
    "    for j in models:\n",
    "        c.retrieve(\n",
    "            'projections-cmip6',\n",
    "            {\n",
    "                'format': 'zip',\n",
    "                'temporal_resolution': 'monthly',\n",
    "                'experiment': f'{i}',\n",
    "                'level': 'single_levels',\n",
    "                'variable': 'near_surface_air_temperature',\n",
    "                'model': f'{j}',\n",
    "                'date': '2015-01-01/2100-12-31',\n",
    "            },\n",
    "            f'{DATADIR}cmip6_monthly_2015-2100_{i}_{j}.zip')"
   ]
  },
  {
   "cell_type": "markdown",
   "metadata": {},
   "source": [
    "<hr>"
   ]
  },
  {
   "cell_type": "markdown",
   "metadata": {},
   "source": [
    "## 3. Unzip the downloaded data files"
   ]
  },
  {
   "cell_type": "markdown",
   "metadata": {},
   "source": [
    "From the CDS, CMIP6 data are available as `NetCDF` files compressed into `zip` archives. For this reason, before we can load any data, we have to extract the files. Having downloaded the four experiments `historical`, `SSP1-2.6`, `SSP2-4.5` and `SSP5-8.5` as seperate zip files, we can use the functions from the `zipfile` Python package to extract their contents. For each zip file we first construct a `ZipFile()` object, then we apply the function `extractall()` to extract its content."
   ]
  },
  {
   "cell_type": "code",
   "execution_count": 4,
   "metadata": {},
   "outputs": [],
   "source": [
    "cmip6_zip_paths = glob(f'{DATADIR}*.zip')\n",
    "for j in cmip6_zip_paths:\n",
    "    with zipfile.ZipFile(j, 'r') as zip_ref:\n",
    "        zip_ref.extractall(f'{DATADIR}')"
   ]
  },
  {
   "cell_type": "markdown",
   "metadata": {},
   "source": [
    "### Create a list of the extracted files\n",
    "\n",
    "To facilitate batch processing later in the tutorial, here we create a list of the extracted NetCDF files:"
   ]
  },
  {
   "cell_type": "code",
   "execution_count": 5,
   "metadata": {},
   "outputs": [],
   "source": [
    "cmip6_nc = list()\n",
    "cmip6_nc_rel = glob(f'{DATADIR}tas*.nc')\n",
    "for i in cmip6_nc_rel:\n",
    "    cmip6_nc.append(os.path.basename(i))"
   ]
  },
  {
   "cell_type": "markdown",
   "metadata": {},
   "source": [
    "We will briefly inspect this list by printing the first five elements, corresponding to the filenames of a sample of the extracted NetCDF files:"
   ]
  },
  {
   "cell_type": "code",
   "execution_count": 6,
   "metadata": {},
   "outputs": [
    {
     "data": {
      "text/plain": [
       "['tas_Amon_UKESM1-0-LL_ssp585_r1i1p1f2_gn_205001-210012_v20190507.nc',\n",
       " 'tas_Amon_MPI-ESM1-2-LR_ssp126_r1i1p1f1_gn_205501-207412_v20190710.nc',\n",
       " 'tas_Amon_UKESM1-0-LL_historical_r13i1p1f2_gn_185001-194912_v20190406.nc',\n",
       " 'tas_Amon_MPI-ESM1-2-LR_ssp245_r1i1p1f1_gn_207501-209412_v20190710.nc',\n",
       " 'tas_Amon_UKESM1-0-LL_ssp585_r1i1p1f2_gn_201501-204912_v20190507.nc']"
      ]
     },
     "execution_count": 6,
     "metadata": {},
     "output_type": "execute_result"
    }
   ],
   "source": [
    "cmip6_nc[0:5]"
   ]
  },
  {
   "cell_type": "markdown",
   "metadata": {},
   "source": [
    "<hr>"
   ]
  },
  {
   "cell_type": "markdown",
   "metadata": {},
   "source": [
    "## 4. Load and prepare CMIP6 data for one model and one experiment"
   ]
  },
  {
   "cell_type": "markdown",
   "metadata": {},
   "source": [
    "Now that we have downloaded and extracted the data, we can prepare it in order to view a time series of the spread of annual global temperature for the model ensemble. These preparation steps include the following:\n",
    "\n",
    "1. **Spatial aggregation**: to have a single global temperature value for each model/experiment dataset, and for each time step\n",
    "2. **Temporal aggregation**: from monthly to yearly\n",
    "3. **Conversion from Kelvin to Celsius**\n",
    "4. **Creation of additional data dimensions** in preparation for the merging of datasets from different models and experiments\n",
    "\n",
    "In this section we apply these steps to a single dataset from one model and one experiment. In the next section we merge data from all models/experiments in preparation for the final processing and plotting of the temperature time series."
   ]
  },
  {
   "cell_type": "markdown",
   "metadata": {},
   "source": [
    "<hr>"
   ]
  },
  {
   "cell_type": "markdown",
   "metadata": {},
   "source": [
    "### 4.A. Load and inspect data"
   ]
  },
  {
   "cell_type": "markdown",
   "metadata": {},
   "source": [
    "We begin by loading the first of the NetCDF files in our list. We will use the Python library [xarray](http://xarray.pydata.org/en/stable/) and its function `open_dataset` to read NetCDF files.\n",
    "\n",
    "The result is a `xarray.Dataset` object with four dimensions: `bnds`, `lat`, `lon`, `time`, of which the dimension `bnds` is not callable."
   ]
  },
  {
   "cell_type": "code",
   "execution_count": 7,
   "metadata": {},
   "outputs": [
    {
     "data": {
      "text/html": [
       "<div><svg style=\"position: absolute; width: 0; height: 0; overflow: hidden\">\n",
       "<defs>\n",
       "<symbol id=\"icon-database\" viewBox=\"0 0 32 32\">\n",
       "<path d=\"M16 0c-8.837 0-16 2.239-16 5v4c0 2.761 7.163 5 16 5s16-2.239 16-5v-4c0-2.761-7.163-5-16-5z\"></path>\n",
       "<path d=\"M16 17c-8.837 0-16-2.239-16-5v6c0 2.761 7.163 5 16 5s16-2.239 16-5v-6c0 2.761-7.163 5-16 5z\"></path>\n",
       "<path d=\"M16 26c-8.837 0-16-2.239-16-5v6c0 2.761 7.163 5 16 5s16-2.239 16-5v-6c0 2.761-7.163 5-16 5z\"></path>\n",
       "</symbol>\n",
       "<symbol id=\"icon-file-text2\" viewBox=\"0 0 32 32\">\n",
       "<path d=\"M28.681 7.159c-0.694-0.947-1.662-2.053-2.724-3.116s-2.169-2.030-3.116-2.724c-1.612-1.182-2.393-1.319-2.841-1.319h-15.5c-1.378 0-2.5 1.121-2.5 2.5v27c0 1.378 1.122 2.5 2.5 2.5h23c1.378 0 2.5-1.122 2.5-2.5v-19.5c0-0.448-0.137-1.23-1.319-2.841zM24.543 5.457c0.959 0.959 1.712 1.825 2.268 2.543h-4.811v-4.811c0.718 0.556 1.584 1.309 2.543 2.268zM28 29.5c0 0.271-0.229 0.5-0.5 0.5h-23c-0.271 0-0.5-0.229-0.5-0.5v-27c0-0.271 0.229-0.5 0.5-0.5 0 0 15.499-0 15.5 0v7c0 0.552 0.448 1 1 1h7v19.5z\"></path>\n",
       "<path d=\"M23 26h-14c-0.552 0-1-0.448-1-1s0.448-1 1-1h14c0.552 0 1 0.448 1 1s-0.448 1-1 1z\"></path>\n",
       "<path d=\"M23 22h-14c-0.552 0-1-0.448-1-1s0.448-1 1-1h14c0.552 0 1 0.448 1 1s-0.448 1-1 1z\"></path>\n",
       "<path d=\"M23 18h-14c-0.552 0-1-0.448-1-1s0.448-1 1-1h14c0.552 0 1 0.448 1 1s-0.448 1-1 1z\"></path>\n",
       "</symbol>\n",
       "</defs>\n",
       "</svg>\n",
       "<style>/* CSS stylesheet for displaying xarray objects in jupyterlab.\n",
       " *\n",
       " */\n",
       "\n",
       ":root {\n",
       "  --xr-font-color0: var(--jp-content-font-color0, rgba(0, 0, 0, 1));\n",
       "  --xr-font-color2: var(--jp-content-font-color2, rgba(0, 0, 0, 0.54));\n",
       "  --xr-font-color3: var(--jp-content-font-color3, rgba(0, 0, 0, 0.38));\n",
       "  --xr-border-color: var(--jp-border-color2, #e0e0e0);\n",
       "  --xr-disabled-color: var(--jp-layout-color3, #bdbdbd);\n",
       "  --xr-background-color: var(--jp-layout-color0, white);\n",
       "  --xr-background-color-row-even: var(--jp-layout-color1, white);\n",
       "  --xr-background-color-row-odd: var(--jp-layout-color2, #eeeeee);\n",
       "}\n",
       "\n",
       "html[theme=dark],\n",
       "body[data-theme=dark],\n",
       "body.vscode-dark {\n",
       "  --xr-font-color0: rgba(255, 255, 255, 1);\n",
       "  --xr-font-color2: rgba(255, 255, 255, 0.54);\n",
       "  --xr-font-color3: rgba(255, 255, 255, 0.38);\n",
       "  --xr-border-color: #1F1F1F;\n",
       "  --xr-disabled-color: #515151;\n",
       "  --xr-background-color: #111111;\n",
       "  --xr-background-color-row-even: #111111;\n",
       "  --xr-background-color-row-odd: #313131;\n",
       "}\n",
       "\n",
       ".xr-wrap {\n",
       "  display: block !important;\n",
       "  min-width: 300px;\n",
       "  max-width: 700px;\n",
       "}\n",
       "\n",
       ".xr-text-repr-fallback {\n",
       "  /* fallback to plain text repr when CSS is not injected (untrusted notebook) */\n",
       "  display: none;\n",
       "}\n",
       "\n",
       ".xr-header {\n",
       "  padding-top: 6px;\n",
       "  padding-bottom: 6px;\n",
       "  margin-bottom: 4px;\n",
       "  border-bottom: solid 1px var(--xr-border-color);\n",
       "}\n",
       "\n",
       ".xr-header > div,\n",
       ".xr-header > ul {\n",
       "  display: inline;\n",
       "  margin-top: 0;\n",
       "  margin-bottom: 0;\n",
       "}\n",
       "\n",
       ".xr-obj-type,\n",
       ".xr-array-name {\n",
       "  margin-left: 2px;\n",
       "  margin-right: 10px;\n",
       "}\n",
       "\n",
       ".xr-obj-type {\n",
       "  color: var(--xr-font-color2);\n",
       "}\n",
       "\n",
       ".xr-sections {\n",
       "  padding-left: 0 !important;\n",
       "  display: grid;\n",
       "  grid-template-columns: 150px auto auto 1fr 20px 20px;\n",
       "}\n",
       "\n",
       ".xr-section-item {\n",
       "  display: contents;\n",
       "}\n",
       "\n",
       ".xr-section-item input {\n",
       "  display: none;\n",
       "}\n",
       "\n",
       ".xr-section-item input + label {\n",
       "  color: var(--xr-disabled-color);\n",
       "}\n",
       "\n",
       ".xr-section-item input:enabled + label {\n",
       "  cursor: pointer;\n",
       "  color: var(--xr-font-color2);\n",
       "}\n",
       "\n",
       ".xr-section-item input:enabled + label:hover {\n",
       "  color: var(--xr-font-color0);\n",
       "}\n",
       "\n",
       ".xr-section-summary {\n",
       "  grid-column: 1;\n",
       "  color: var(--xr-font-color2);\n",
       "  font-weight: 500;\n",
       "}\n",
       "\n",
       ".xr-section-summary > span {\n",
       "  display: inline-block;\n",
       "  padding-left: 0.5em;\n",
       "}\n",
       "\n",
       ".xr-section-summary-in:disabled + label {\n",
       "  color: var(--xr-font-color2);\n",
       "}\n",
       "\n",
       ".xr-section-summary-in + label:before {\n",
       "  display: inline-block;\n",
       "  content: '►';\n",
       "  font-size: 11px;\n",
       "  width: 15px;\n",
       "  text-align: center;\n",
       "}\n",
       "\n",
       ".xr-section-summary-in:disabled + label:before {\n",
       "  color: var(--xr-disabled-color);\n",
       "}\n",
       "\n",
       ".xr-section-summary-in:checked + label:before {\n",
       "  content: '▼';\n",
       "}\n",
       "\n",
       ".xr-section-summary-in:checked + label > span {\n",
       "  display: none;\n",
       "}\n",
       "\n",
       ".xr-section-summary,\n",
       ".xr-section-inline-details {\n",
       "  padding-top: 4px;\n",
       "  padding-bottom: 4px;\n",
       "}\n",
       "\n",
       ".xr-section-inline-details {\n",
       "  grid-column: 2 / -1;\n",
       "}\n",
       "\n",
       ".xr-section-details {\n",
       "  display: none;\n",
       "  grid-column: 1 / -1;\n",
       "  margin-bottom: 5px;\n",
       "}\n",
       "\n",
       ".xr-section-summary-in:checked ~ .xr-section-details {\n",
       "  display: contents;\n",
       "}\n",
       "\n",
       ".xr-array-wrap {\n",
       "  grid-column: 1 / -1;\n",
       "  display: grid;\n",
       "  grid-template-columns: 20px auto;\n",
       "}\n",
       "\n",
       ".xr-array-wrap > label {\n",
       "  grid-column: 1;\n",
       "  vertical-align: top;\n",
       "}\n",
       "\n",
       ".xr-preview {\n",
       "  color: var(--xr-font-color3);\n",
       "}\n",
       "\n",
       ".xr-array-preview,\n",
       ".xr-array-data {\n",
       "  padding: 0 5px !important;\n",
       "  grid-column: 2;\n",
       "}\n",
       "\n",
       ".xr-array-data,\n",
       ".xr-array-in:checked ~ .xr-array-preview {\n",
       "  display: none;\n",
       "}\n",
       "\n",
       ".xr-array-in:checked ~ .xr-array-data,\n",
       ".xr-array-preview {\n",
       "  display: inline-block;\n",
       "}\n",
       "\n",
       ".xr-dim-list {\n",
       "  display: inline-block !important;\n",
       "  list-style: none;\n",
       "  padding: 0 !important;\n",
       "  margin: 0;\n",
       "}\n",
       "\n",
       ".xr-dim-list li {\n",
       "  display: inline-block;\n",
       "  padding: 0;\n",
       "  margin: 0;\n",
       "}\n",
       "\n",
       ".xr-dim-list:before {\n",
       "  content: '(';\n",
       "}\n",
       "\n",
       ".xr-dim-list:after {\n",
       "  content: ')';\n",
       "}\n",
       "\n",
       ".xr-dim-list li:not(:last-child):after {\n",
       "  content: ',';\n",
       "  padding-right: 5px;\n",
       "}\n",
       "\n",
       ".xr-has-index {\n",
       "  font-weight: bold;\n",
       "}\n",
       "\n",
       ".xr-var-list,\n",
       ".xr-var-item {\n",
       "  display: contents;\n",
       "}\n",
       "\n",
       ".xr-var-item > div,\n",
       ".xr-var-item label,\n",
       ".xr-var-item > .xr-var-name span {\n",
       "  background-color: var(--xr-background-color-row-even);\n",
       "  margin-bottom: 0;\n",
       "}\n",
       "\n",
       ".xr-var-item > .xr-var-name:hover span {\n",
       "  padding-right: 5px;\n",
       "}\n",
       "\n",
       ".xr-var-list > li:nth-child(odd) > div,\n",
       ".xr-var-list > li:nth-child(odd) > label,\n",
       ".xr-var-list > li:nth-child(odd) > .xr-var-name span {\n",
       "  background-color: var(--xr-background-color-row-odd);\n",
       "}\n",
       "\n",
       ".xr-var-name {\n",
       "  grid-column: 1;\n",
       "}\n",
       "\n",
       ".xr-var-dims {\n",
       "  grid-column: 2;\n",
       "}\n",
       "\n",
       ".xr-var-dtype {\n",
       "  grid-column: 3;\n",
       "  text-align: right;\n",
       "  color: var(--xr-font-color2);\n",
       "}\n",
       "\n",
       ".xr-var-preview {\n",
       "  grid-column: 4;\n",
       "}\n",
       "\n",
       ".xr-index-preview {\n",
       "  grid-column: 2 / 5;\n",
       "  color: var(--xr-font-color2);\n",
       "}\n",
       "\n",
       ".xr-var-name,\n",
       ".xr-var-dims,\n",
       ".xr-var-dtype,\n",
       ".xr-preview,\n",
       ".xr-attrs dt {\n",
       "  white-space: nowrap;\n",
       "  overflow: hidden;\n",
       "  text-overflow: ellipsis;\n",
       "  padding-right: 10px;\n",
       "}\n",
       "\n",
       ".xr-var-name:hover,\n",
       ".xr-var-dims:hover,\n",
       ".xr-var-dtype:hover,\n",
       ".xr-attrs dt:hover {\n",
       "  overflow: visible;\n",
       "  width: auto;\n",
       "  z-index: 1;\n",
       "}\n",
       "\n",
       ".xr-var-attrs,\n",
       ".xr-var-data,\n",
       ".xr-index-data {\n",
       "  display: none;\n",
       "  background-color: var(--xr-background-color) !important;\n",
       "  padding-bottom: 5px !important;\n",
       "}\n",
       "\n",
       ".xr-var-attrs-in:checked ~ .xr-var-attrs,\n",
       ".xr-var-data-in:checked ~ .xr-var-data,\n",
       ".xr-index-data-in:checked ~ .xr-index-data {\n",
       "  display: block;\n",
       "}\n",
       "\n",
       ".xr-var-data > table {\n",
       "  float: right;\n",
       "}\n",
       "\n",
       ".xr-var-name span,\n",
       ".xr-var-data,\n",
       ".xr-index-name div,\n",
       ".xr-index-data,\n",
       ".xr-attrs {\n",
       "  padding-left: 25px !important;\n",
       "}\n",
       "\n",
       ".xr-attrs,\n",
       ".xr-var-attrs,\n",
       ".xr-var-data,\n",
       ".xr-index-data {\n",
       "  grid-column: 1 / -1;\n",
       "}\n",
       "\n",
       "dl.xr-attrs {\n",
       "  padding: 0;\n",
       "  margin: 0;\n",
       "  display: grid;\n",
       "  grid-template-columns: 125px auto;\n",
       "}\n",
       "\n",
       ".xr-attrs dt,\n",
       ".xr-attrs dd {\n",
       "  padding: 0;\n",
       "  margin: 0;\n",
       "  float: left;\n",
       "  padding-right: 10px;\n",
       "  width: auto;\n",
       "}\n",
       "\n",
       ".xr-attrs dt {\n",
       "  font-weight: normal;\n",
       "  grid-column: 1;\n",
       "}\n",
       "\n",
       ".xr-attrs dt:hover span {\n",
       "  display: inline-block;\n",
       "  background: var(--xr-background-color);\n",
       "  padding-right: 10px;\n",
       "}\n",
       "\n",
       ".xr-attrs dd {\n",
       "  grid-column: 2;\n",
       "  white-space: pre-wrap;\n",
       "  word-break: break-all;\n",
       "}\n",
       "\n",
       ".xr-icon-database,\n",
       ".xr-icon-file-text2,\n",
       ".xr-no-icon {\n",
       "  display: inline-block;\n",
       "  vertical-align: middle;\n",
       "  width: 1em;\n",
       "  height: 1.5em !important;\n",
       "  stroke-width: 0;\n",
       "  stroke: currentColor;\n",
       "  fill: currentColor;\n",
       "}\n",
       "</style><pre class='xr-text-repr-fallback'>&lt;xarray.Dataset&gt; Size: 68MB\n",
       "Dimensions:    (time: 612, bnds: 2, lat: 144, lon: 192)\n",
       "Coordinates:\n",
       "  * time       (time) object 5kB 2050-01-16 00:00:00 ... 2100-12-16 00:00:00\n",
       "  * lat        (lat) float64 1kB -89.38 -88.12 -86.88 ... 86.88 88.12 89.38\n",
       "  * lon        (lon) float64 2kB 0.9375 2.812 4.688 6.562 ... 355.3 357.2 359.1\n",
       "    height     float64 8B ...\n",
       "Dimensions without coordinates: bnds\n",
       "Data variables:\n",
       "    time_bnds  (time, bnds) object 10kB ...\n",
       "    lat_bnds   (lat, bnds) float64 2kB ...\n",
       "    lon_bnds   (lon, bnds) float64 3kB ...\n",
       "    tas        (time, lat, lon) float32 68MB ...\n",
       "Attributes: (12/46)\n",
       "    Conventions:            CF-1.7 CMIP-6.2\n",
       "    activity_id:            ScenarioMIP\n",
       "    branch_method:          standard\n",
       "    branch_time_in_child:   59400.0\n",
       "    branch_time_in_parent:  59400.0\n",
       "    creation_date:          2019-04-18T14:30:46Z\n",
       "    ...                     ...\n",
       "    title:                  UKESM1-0-LL output prepared for CMIP6\n",
       "    variable_id:            tas\n",
       "    variant_label:          r1i1p1f2\n",
       "    license:                CMIP6 model data produced by the Met Office Hadle...\n",
       "    cmor_version:           3.4.0\n",
       "    tracking_id:            hdl:21.14100/542545ca-f8aa-49bf-abf5-b6b0e97dbaec</pre><div class='xr-wrap' style='display:none'><div class='xr-header'><div class='xr-obj-type'>xarray.Dataset</div></div><ul class='xr-sections'><li class='xr-section-item'><input id='section-e27ccd17-f89c-447b-9326-85e67778170b' class='xr-section-summary-in' type='checkbox' disabled ><label for='section-e27ccd17-f89c-447b-9326-85e67778170b' class='xr-section-summary'  title='Expand/collapse section'>Dimensions:</label><div class='xr-section-inline-details'><ul class='xr-dim-list'><li><span class='xr-has-index'>time</span>: 612</li><li><span>bnds</span>: 2</li><li><span class='xr-has-index'>lat</span>: 144</li><li><span class='xr-has-index'>lon</span>: 192</li></ul></div><div class='xr-section-details'></div></li><li class='xr-section-item'><input id='section-4e20269d-3516-48f3-8998-0728927d9473' class='xr-section-summary-in' type='checkbox'  checked><label for='section-4e20269d-3516-48f3-8998-0728927d9473' class='xr-section-summary' >Coordinates: <span>(4)</span></label><div class='xr-section-inline-details'></div><div class='xr-section-details'><ul class='xr-var-list'><li class='xr-var-item'><div class='xr-var-name'><span class='xr-has-index'>time</span></div><div class='xr-var-dims'>(time)</div><div class='xr-var-dtype'>object</div><div class='xr-var-preview xr-preview'>2050-01-16 00:00:00 ... 2100-12-...</div><input id='attrs-890bc621-fc06-4fa1-ac3b-e7e55bba42a0' class='xr-var-attrs-in' type='checkbox' ><label for='attrs-890bc621-fc06-4fa1-ac3b-e7e55bba42a0' title='Show/Hide attributes'><svg class='icon xr-icon-file-text2'><use xlink:href='#icon-file-text2'></use></svg></label><input id='data-35518ddf-523c-43e0-9c99-e09b50c4bcd1' class='xr-var-data-in' type='checkbox'><label for='data-35518ddf-523c-43e0-9c99-e09b50c4bcd1' title='Show/Hide data repr'><svg class='icon xr-icon-database'><use xlink:href='#icon-database'></use></svg></label><div class='xr-var-attrs'><dl class='xr-attrs'><dt><span>bounds :</span></dt><dd>time_bnds</dd><dt><span>axis :</span></dt><dd>T</dd><dt><span>long_name :</span></dt><dd>time</dd><dt><span>standard_name :</span></dt><dd>time</dd></dl></div><div class='xr-var-data'><pre>array([cftime.Datetime360Day(2050, 1, 16, 0, 0, 0, 0, has_year_zero=True),\n",
       "       cftime.Datetime360Day(2050, 2, 16, 0, 0, 0, 0, has_year_zero=True),\n",
       "       cftime.Datetime360Day(2050, 3, 16, 0, 0, 0, 0, has_year_zero=True), ...,\n",
       "       cftime.Datetime360Day(2100, 10, 16, 0, 0, 0, 0, has_year_zero=True),\n",
       "       cftime.Datetime360Day(2100, 11, 16, 0, 0, 0, 0, has_year_zero=True),\n",
       "       cftime.Datetime360Day(2100, 12, 16, 0, 0, 0, 0, has_year_zero=True)],\n",
       "      dtype=object)</pre></div></li><li class='xr-var-item'><div class='xr-var-name'><span class='xr-has-index'>lat</span></div><div class='xr-var-dims'>(lat)</div><div class='xr-var-dtype'>float64</div><div class='xr-var-preview xr-preview'>-89.38 -88.12 ... 88.12 89.38</div><input id='attrs-0764bfe1-521a-41b3-b4ca-3c9afec83239' class='xr-var-attrs-in' type='checkbox' ><label for='attrs-0764bfe1-521a-41b3-b4ca-3c9afec83239' title='Show/Hide attributes'><svg class='icon xr-icon-file-text2'><use xlink:href='#icon-file-text2'></use></svg></label><input id='data-d1503fab-8db5-4b27-bfee-7074e0603152' class='xr-var-data-in' type='checkbox'><label for='data-d1503fab-8db5-4b27-bfee-7074e0603152' title='Show/Hide data repr'><svg class='icon xr-icon-database'><use xlink:href='#icon-database'></use></svg></label><div class='xr-var-attrs'><dl class='xr-attrs'><dt><span>bounds :</span></dt><dd>lat_bnds</dd><dt><span>units :</span></dt><dd>degrees_north</dd><dt><span>axis :</span></dt><dd>Y</dd><dt><span>long_name :</span></dt><dd>Latitude</dd><dt><span>standard_name :</span></dt><dd>latitude</dd></dl></div><div class='xr-var-data'><pre>array([-89.375, -88.125, -86.875, -85.625, -84.375, -83.125, -81.875, -80.625,\n",
       "       -79.375, -78.125, -76.875, -75.625, -74.375, -73.125, -71.875, -70.625,\n",
       "       -69.375, -68.125, -66.875, -65.625, -64.375, -63.125, -61.875, -60.625,\n",
       "       -59.375, -58.125, -56.875, -55.625, -54.375, -53.125, -51.875, -50.625,\n",
       "       -49.375, -48.125, -46.875, -45.625, -44.375, -43.125, -41.875, -40.625,\n",
       "       -39.375, -38.125, -36.875, -35.625, -34.375, -33.125, -31.875, -30.625,\n",
       "       -29.375, -28.125, -26.875, -25.625, -24.375, -23.125, -21.875, -20.625,\n",
       "       -19.375, -18.125, -16.875, -15.625, -14.375, -13.125, -11.875, -10.625,\n",
       "        -9.375,  -8.125,  -6.875,  -5.625,  -4.375,  -3.125,  -1.875,  -0.625,\n",
       "         0.625,   1.875,   3.125,   4.375,   5.625,   6.875,   8.125,   9.375,\n",
       "        10.625,  11.875,  13.125,  14.375,  15.625,  16.875,  18.125,  19.375,\n",
       "        20.625,  21.875,  23.125,  24.375,  25.625,  26.875,  28.125,  29.375,\n",
       "        30.625,  31.875,  33.125,  34.375,  35.625,  36.875,  38.125,  39.375,\n",
       "        40.625,  41.875,  43.125,  44.375,  45.625,  46.875,  48.125,  49.375,\n",
       "        50.625,  51.875,  53.125,  54.375,  55.625,  56.875,  58.125,  59.375,\n",
       "        60.625,  61.875,  63.125,  64.375,  65.625,  66.875,  68.125,  69.375,\n",
       "        70.625,  71.875,  73.125,  74.375,  75.625,  76.875,  78.125,  79.375,\n",
       "        80.625,  81.875,  83.125,  84.375,  85.625,  86.875,  88.125,  89.375])</pre></div></li><li class='xr-var-item'><div class='xr-var-name'><span class='xr-has-index'>lon</span></div><div class='xr-var-dims'>(lon)</div><div class='xr-var-dtype'>float64</div><div class='xr-var-preview xr-preview'>0.9375 2.812 4.688 ... 357.2 359.1</div><input id='attrs-30f91584-cb2d-47a4-a8c1-2f526ccd542f' class='xr-var-attrs-in' type='checkbox' ><label for='attrs-30f91584-cb2d-47a4-a8c1-2f526ccd542f' title='Show/Hide attributes'><svg class='icon xr-icon-file-text2'><use xlink:href='#icon-file-text2'></use></svg></label><input id='data-fd5f8d42-7b4a-458c-8c46-075d2951b143' class='xr-var-data-in' type='checkbox'><label for='data-fd5f8d42-7b4a-458c-8c46-075d2951b143' title='Show/Hide data repr'><svg class='icon xr-icon-database'><use xlink:href='#icon-database'></use></svg></label><div class='xr-var-attrs'><dl class='xr-attrs'><dt><span>bounds :</span></dt><dd>lon_bnds</dd><dt><span>units :</span></dt><dd>degrees_east</dd><dt><span>axis :</span></dt><dd>X</dd><dt><span>long_name :</span></dt><dd>Longitude</dd><dt><span>standard_name :</span></dt><dd>longitude</dd></dl></div><div class='xr-var-data'><pre>array([  0.9375,   2.8125,   4.6875,   6.5625,   8.4375,  10.3125,  12.1875,\n",
       "        14.0625,  15.9375,  17.8125,  19.6875,  21.5625,  23.4375,  25.3125,\n",
       "        27.1875,  29.0625,  30.9375,  32.8125,  34.6875,  36.5625,  38.4375,\n",
       "        40.3125,  42.1875,  44.0625,  45.9375,  47.8125,  49.6875,  51.5625,\n",
       "        53.4375,  55.3125,  57.1875,  59.0625,  60.9375,  62.8125,  64.6875,\n",
       "        66.5625,  68.4375,  70.3125,  72.1875,  74.0625,  75.9375,  77.8125,\n",
       "        79.6875,  81.5625,  83.4375,  85.3125,  87.1875,  89.0625,  90.9375,\n",
       "        92.8125,  94.6875,  96.5625,  98.4375, 100.3125, 102.1875, 104.0625,\n",
       "       105.9375, 107.8125, 109.6875, 111.5625, 113.4375, 115.3125, 117.1875,\n",
       "       119.0625, 120.9375, 122.8125, 124.6875, 126.5625, 128.4375, 130.3125,\n",
       "       132.1875, 134.0625, 135.9375, 137.8125, 139.6875, 141.5625, 143.4375,\n",
       "       145.3125, 147.1875, 149.0625, 150.9375, 152.8125, 154.6875, 156.5625,\n",
       "       158.4375, 160.3125, 162.1875, 164.0625, 165.9375, 167.8125, 169.6875,\n",
       "       171.5625, 173.4375, 175.3125, 177.1875, 179.0625, 180.9375, 182.8125,\n",
       "       184.6875, 186.5625, 188.4375, 190.3125, 192.1875, 194.0625, 195.9375,\n",
       "       197.8125, 199.6875, 201.5625, 203.4375, 205.3125, 207.1875, 209.0625,\n",
       "       210.9375, 212.8125, 214.6875, 216.5625, 218.4375, 220.3125, 222.1875,\n",
       "       224.0625, 225.9375, 227.8125, 229.6875, 231.5625, 233.4375, 235.3125,\n",
       "       237.1875, 239.0625, 240.9375, 242.8125, 244.6875, 246.5625, 248.4375,\n",
       "       250.3125, 252.1875, 254.0625, 255.9375, 257.8125, 259.6875, 261.5625,\n",
       "       263.4375, 265.3125, 267.1875, 269.0625, 270.9375, 272.8125, 274.6875,\n",
       "       276.5625, 278.4375, 280.3125, 282.1875, 284.0625, 285.9375, 287.8125,\n",
       "       289.6875, 291.5625, 293.4375, 295.3125, 297.1875, 299.0625, 300.9375,\n",
       "       302.8125, 304.6875, 306.5625, 308.4375, 310.3125, 312.1875, 314.0625,\n",
       "       315.9375, 317.8125, 319.6875, 321.5625, 323.4375, 325.3125, 327.1875,\n",
       "       329.0625, 330.9375, 332.8125, 334.6875, 336.5625, 338.4375, 340.3125,\n",
       "       342.1875, 344.0625, 345.9375, 347.8125, 349.6875, 351.5625, 353.4375,\n",
       "       355.3125, 357.1875, 359.0625])</pre></div></li><li class='xr-var-item'><div class='xr-var-name'><span>height</span></div><div class='xr-var-dims'>()</div><div class='xr-var-dtype'>float64</div><div class='xr-var-preview xr-preview'>...</div><input id='attrs-4f6ba75a-938a-4211-8acc-6c6f545ccc45' class='xr-var-attrs-in' type='checkbox' ><label for='attrs-4f6ba75a-938a-4211-8acc-6c6f545ccc45' title='Show/Hide attributes'><svg class='icon xr-icon-file-text2'><use xlink:href='#icon-file-text2'></use></svg></label><input id='data-055aefe4-7aad-457d-a7ee-6111aadc100f' class='xr-var-data-in' type='checkbox'><label for='data-055aefe4-7aad-457d-a7ee-6111aadc100f' title='Show/Hide data repr'><svg class='icon xr-icon-database'><use xlink:href='#icon-database'></use></svg></label><div class='xr-var-attrs'><dl class='xr-attrs'><dt><span>units :</span></dt><dd>m</dd><dt><span>axis :</span></dt><dd>Z</dd><dt><span>positive :</span></dt><dd>up</dd><dt><span>long_name :</span></dt><dd>height</dd><dt><span>standard_name :</span></dt><dd>height</dd></dl></div><div class='xr-var-data'><pre>[1 values with dtype=float64]</pre></div></li></ul></div></li><li class='xr-section-item'><input id='section-14fb26aa-79c9-43bf-b862-88aa364d5fc0' class='xr-section-summary-in' type='checkbox'  checked><label for='section-14fb26aa-79c9-43bf-b862-88aa364d5fc0' class='xr-section-summary' >Data variables: <span>(4)</span></label><div class='xr-section-inline-details'></div><div class='xr-section-details'><ul class='xr-var-list'><li class='xr-var-item'><div class='xr-var-name'><span>time_bnds</span></div><div class='xr-var-dims'>(time, bnds)</div><div class='xr-var-dtype'>object</div><div class='xr-var-preview xr-preview'>...</div><input id='attrs-d0e31b83-beaf-4aa7-b3c8-60084c011cc3' class='xr-var-attrs-in' type='checkbox' disabled><label for='attrs-d0e31b83-beaf-4aa7-b3c8-60084c011cc3' title='Show/Hide attributes'><svg class='icon xr-icon-file-text2'><use xlink:href='#icon-file-text2'></use></svg></label><input id='data-635de2b7-eedd-4d7b-830e-e48930cb6089' class='xr-var-data-in' type='checkbox'><label for='data-635de2b7-eedd-4d7b-830e-e48930cb6089' title='Show/Hide data repr'><svg class='icon xr-icon-database'><use xlink:href='#icon-database'></use></svg></label><div class='xr-var-attrs'><dl class='xr-attrs'></dl></div><div class='xr-var-data'><pre>[1224 values with dtype=object]</pre></div></li><li class='xr-var-item'><div class='xr-var-name'><span>lat_bnds</span></div><div class='xr-var-dims'>(lat, bnds)</div><div class='xr-var-dtype'>float64</div><div class='xr-var-preview xr-preview'>...</div><input id='attrs-7a6630ae-530c-4f9f-8081-5be05ccdad60' class='xr-var-attrs-in' type='checkbox' disabled><label for='attrs-7a6630ae-530c-4f9f-8081-5be05ccdad60' title='Show/Hide attributes'><svg class='icon xr-icon-file-text2'><use xlink:href='#icon-file-text2'></use></svg></label><input id='data-0c42f065-b13c-4052-bf6c-bf5f0c8b6a16' class='xr-var-data-in' type='checkbox'><label for='data-0c42f065-b13c-4052-bf6c-bf5f0c8b6a16' title='Show/Hide data repr'><svg class='icon xr-icon-database'><use xlink:href='#icon-database'></use></svg></label><div class='xr-var-attrs'><dl class='xr-attrs'></dl></div><div class='xr-var-data'><pre>[288 values with dtype=float64]</pre></div></li><li class='xr-var-item'><div class='xr-var-name'><span>lon_bnds</span></div><div class='xr-var-dims'>(lon, bnds)</div><div class='xr-var-dtype'>float64</div><div class='xr-var-preview xr-preview'>...</div><input id='attrs-9233405c-e0a6-43e5-b690-261518ebb425' class='xr-var-attrs-in' type='checkbox' disabled><label for='attrs-9233405c-e0a6-43e5-b690-261518ebb425' title='Show/Hide attributes'><svg class='icon xr-icon-file-text2'><use xlink:href='#icon-file-text2'></use></svg></label><input id='data-9228e4d8-0a37-4ce9-ab71-2c2949ee69ef' class='xr-var-data-in' type='checkbox'><label for='data-9228e4d8-0a37-4ce9-ab71-2c2949ee69ef' title='Show/Hide data repr'><svg class='icon xr-icon-database'><use xlink:href='#icon-database'></use></svg></label><div class='xr-var-attrs'><dl class='xr-attrs'></dl></div><div class='xr-var-data'><pre>[384 values with dtype=float64]</pre></div></li><li class='xr-var-item'><div class='xr-var-name'><span>tas</span></div><div class='xr-var-dims'>(time, lat, lon)</div><div class='xr-var-dtype'>float32</div><div class='xr-var-preview xr-preview'>...</div><input id='attrs-43c7360c-e9b2-4528-abda-5b4f6bc85011' class='xr-var-attrs-in' type='checkbox' ><label for='attrs-43c7360c-e9b2-4528-abda-5b4f6bc85011' title='Show/Hide attributes'><svg class='icon xr-icon-file-text2'><use xlink:href='#icon-file-text2'></use></svg></label><input id='data-380a66ab-4517-459a-9925-cc8ff4db5372' class='xr-var-data-in' type='checkbox'><label for='data-380a66ab-4517-459a-9925-cc8ff4db5372' title='Show/Hide data repr'><svg class='icon xr-icon-database'><use xlink:href='#icon-database'></use></svg></label><div class='xr-var-attrs'><dl class='xr-attrs'><dt><span>standard_name :</span></dt><dd>air_temperature</dd><dt><span>long_name :</span></dt><dd>Near-Surface Air Temperature</dd><dt><span>comment :</span></dt><dd>near-surface (usually, 2 meter) air temperature</dd><dt><span>units :</span></dt><dd>K</dd><dt><span>original_name :</span></dt><dd>mo: (stash: m01s03i236, lbproc: 128)</dd><dt><span>cell_methods :</span></dt><dd>area: time: mean</dd><dt><span>cell_measures :</span></dt><dd>area: areacella</dd><dt><span>history :</span></dt><dd>2019-04-18T14:30:46Z altered by CMOR: Treated scalar dimension: &#x27;height&#x27;. 2019-04-18T14:30:46Z altered by CMOR: replaced missing value flag (-1.07374e+09) with standard missing value (1e+20).</dd></dl></div><div class='xr-var-data'><pre>[16920576 values with dtype=float32]</pre></div></li></ul></div></li><li class='xr-section-item'><input id='section-587fe399-90b7-49cf-8355-f2ff79648818' class='xr-section-summary-in' type='checkbox'  ><label for='section-587fe399-90b7-49cf-8355-f2ff79648818' class='xr-section-summary' >Indexes: <span>(3)</span></label><div class='xr-section-inline-details'></div><div class='xr-section-details'><ul class='xr-var-list'><li class='xr-var-item'><div class='xr-index-name'><div>time</div></div><div class='xr-index-preview'>PandasIndex</div><div></div><input id='index-bb575b19-8291-4b1e-bfd8-59afe25ff2c2' class='xr-index-data-in' type='checkbox'/><label for='index-bb575b19-8291-4b1e-bfd8-59afe25ff2c2' title='Show/Hide index repr'><svg class='icon xr-icon-database'><use xlink:href='#icon-database'></use></svg></label><div class='xr-index-data'><pre>PandasIndex(CFTimeIndex([2050-01-16 00:00:00, 2050-02-16 00:00:00, 2050-03-16 00:00:00,\n",
       "             2050-04-16 00:00:00, 2050-05-16 00:00:00, 2050-06-16 00:00:00,\n",
       "             2050-07-16 00:00:00, 2050-08-16 00:00:00, 2050-09-16 00:00:00,\n",
       "             2050-10-16 00:00:00,\n",
       "             ...\n",
       "             2100-03-16 00:00:00, 2100-04-16 00:00:00, 2100-05-16 00:00:00,\n",
       "             2100-06-16 00:00:00, 2100-07-16 00:00:00, 2100-08-16 00:00:00,\n",
       "             2100-09-16 00:00:00, 2100-10-16 00:00:00, 2100-11-16 00:00:00,\n",
       "             2100-12-16 00:00:00],\n",
       "            dtype=&#x27;object&#x27;, length=612, calendar=&#x27;360_day&#x27;, freq=&#x27;30D&#x27;))</pre></div></li><li class='xr-var-item'><div class='xr-index-name'><div>lat</div></div><div class='xr-index-preview'>PandasIndex</div><div></div><input id='index-1ee206cf-bfda-45fd-9d2d-d33fc5143b0f' class='xr-index-data-in' type='checkbox'/><label for='index-1ee206cf-bfda-45fd-9d2d-d33fc5143b0f' title='Show/Hide index repr'><svg class='icon xr-icon-database'><use xlink:href='#icon-database'></use></svg></label><div class='xr-index-data'><pre>PandasIndex(Index([-89.375, -88.125, -86.875, -85.625, -84.375, -83.125, -81.875, -80.625,\n",
       "       -79.375, -78.125,\n",
       "       ...\n",
       "        78.125,  79.375,  80.625,  81.875,  83.125,  84.375,  85.625,  86.875,\n",
       "        88.125,  89.375],\n",
       "      dtype=&#x27;float64&#x27;, name=&#x27;lat&#x27;, length=144))</pre></div></li><li class='xr-var-item'><div class='xr-index-name'><div>lon</div></div><div class='xr-index-preview'>PandasIndex</div><div></div><input id='index-65218b8a-89bf-430f-bd7c-4606591ed53e' class='xr-index-data-in' type='checkbox'/><label for='index-65218b8a-89bf-430f-bd7c-4606591ed53e' title='Show/Hide index repr'><svg class='icon xr-icon-database'><use xlink:href='#icon-database'></use></svg></label><div class='xr-index-data'><pre>PandasIndex(Index([  0.9375,   2.8125,   4.6875,   6.5625,   8.4375,  10.3125,  12.1875,\n",
       "        14.0625,  15.9375,  17.8125,\n",
       "       ...\n",
       "       342.1875, 344.0625, 345.9375, 347.8125, 349.6875, 351.5625, 353.4375,\n",
       "       355.3125, 357.1875, 359.0625],\n",
       "      dtype=&#x27;float64&#x27;, name=&#x27;lon&#x27;, length=192))</pre></div></li></ul></div></li><li class='xr-section-item'><input id='section-d4a59b84-4fb4-4daf-b339-639169a43169' class='xr-section-summary-in' type='checkbox'  ><label for='section-d4a59b84-4fb4-4daf-b339-639169a43169' class='xr-section-summary' >Attributes: <span>(46)</span></label><div class='xr-section-inline-details'></div><div class='xr-section-details'><dl class='xr-attrs'><dt><span>Conventions :</span></dt><dd>CF-1.7 CMIP-6.2</dd><dt><span>activity_id :</span></dt><dd>ScenarioMIP</dd><dt><span>branch_method :</span></dt><dd>standard</dd><dt><span>branch_time_in_child :</span></dt><dd>59400.0</dd><dt><span>branch_time_in_parent :</span></dt><dd>59400.0</dd><dt><span>creation_date :</span></dt><dd>2019-04-18T14:30:46Z</dd><dt><span>cv_version :</span></dt><dd>6.2.20.1</dd><dt><span>data_specs_version :</span></dt><dd>01.00.29</dd><dt><span>experiment :</span></dt><dd>update of RCP8.5 based on SSP5</dd><dt><span>experiment_id :</span></dt><dd>ssp585</dd><dt><span>external_variables :</span></dt><dd>areacella</dd><dt><span>forcing_index :</span></dt><dd>2</dd><dt><span>frequency :</span></dt><dd>mon</dd><dt><span>further_info_url :</span></dt><dd>https://furtherinfo.es-doc.org/CMIP6.MOHC.UKESM1-0-LL.ssp585.none.r1i1p1f2</dd><dt><span>grid :</span></dt><dd>Native N96 grid; 192 x 144 longitude/latitude</dd><dt><span>grid_label :</span></dt><dd>gn</dd><dt><span>history :</span></dt><dd>2019-04-18T14:18:43Z ; CMOR rewrote data to be consistent with CMIP6, CF-1.7 CMIP-6.2 and CF standards.;\n",
       "2019-04-18T14:17:53Z MIP Convert v1.0.3, Python v2.7.12, Iris v1.13.0, Numpy v1.13.3, netcdftime v1.4.1.</dd><dt><span>initialization_index :</span></dt><dd>1</dd><dt><span>institution :</span></dt><dd>Met Office Hadley Centre, Fitzroy Road, Exeter, Devon, EX1 3PB, UK</dd><dt><span>institution_id :</span></dt><dd>MOHC</dd><dt><span>mip_era :</span></dt><dd>CMIP6</dd><dt><span>mo_runid :</span></dt><dd>u-be653</dd><dt><span>nominal_resolution :</span></dt><dd>250 km</dd><dt><span>parent_activity_id :</span></dt><dd>CMIP</dd><dt><span>parent_experiment_id :</span></dt><dd>historical</dd><dt><span>parent_mip_era :</span></dt><dd>CMIP6</dd><dt><span>parent_source_id :</span></dt><dd>UKESM1-0-LL</dd><dt><span>parent_time_units :</span></dt><dd>days since 1850-01-01-00-00-00</dd><dt><span>parent_variant_label :</span></dt><dd>r1i1p1f2</dd><dt><span>physics_index :</span></dt><dd>1</dd><dt><span>product :</span></dt><dd>model-output</dd><dt><span>realization_index :</span></dt><dd>1</dd><dt><span>realm :</span></dt><dd>atmos</dd><dt><span>source :</span></dt><dd>UKESM1.0-LL (2018): \n",
       "aerosol: UKCA-GLOMAP-mode\n",
       "atmos: MetUM-HadGEM3-GA7.1 (N96; 192 x 144 longitude/latitude; 85 levels; top level 85 km)\n",
       "atmosChem: UKCA-StratTrop\n",
       "land: JULES-ES-1.0\n",
       "landIce: none\n",
       "ocean: NEMO-HadGEM3-GO6.0 (eORCA1 tripolar primarily 1 deg with meridional refinement down to 1/3 degree in the tropics; 360 x 330 longitude/latitude; 75 levels; top grid cell 0-1 m)\n",
       "ocnBgchem: MEDUSA2\n",
       "seaIce: CICE-HadGEM3-GSI8 (eORCA1 tripolar primarily 1 deg; 360 x 330 longitude/latitude)</dd><dt><span>source_id :</span></dt><dd>UKESM1-0-LL</dd><dt><span>source_type :</span></dt><dd>AOGCM AER BGC CHEM</dd><dt><span>sub_experiment :</span></dt><dd>none</dd><dt><span>sub_experiment_id :</span></dt><dd>none</dd><dt><span>table_id :</span></dt><dd>Amon</dd><dt><span>table_info :</span></dt><dd>Creation Date:(13 December 2018) MD5:2b12b5db6db112aa8b8b0d6c1645b121</dd><dt><span>title :</span></dt><dd>UKESM1-0-LL output prepared for CMIP6</dd><dt><span>variable_id :</span></dt><dd>tas</dd><dt><span>variant_label :</span></dt><dd>r1i1p1f2</dd><dt><span>license :</span></dt><dd>CMIP6 model data produced by the Met Office Hadley Centre is licensed under a Creative Commons Attribution-ShareAlike 4.0 International License (https://creativecommons.org/licenses). Consult https://pcmdi.llnl.gov/CMIP6/TermsOfUse for terms of use governing CMIP6 output, including citation requirements and proper acknowledgment. Further information about this data, including some limitations, can be found via the further_info_url (recorded as a global attribute in this file) and at https://ukesm.ac.uk/cmip6. The data producers and data providers make no warranty, either express or implied, including, but not limited to, warranties of merchantability and fitness for a particular purpose. All liabilities arising from the supply of the information (including any liability arising in negligence) are excluded to the fullest extent permitted by law.</dd><dt><span>cmor_version :</span></dt><dd>3.4.0</dd><dt><span>tracking_id :</span></dt><dd>hdl:21.14100/542545ca-f8aa-49bf-abf5-b6b0e97dbaec</dd></dl></div></li></ul></div></div>"
      ],
      "text/plain": [
       "<xarray.Dataset> Size: 68MB\n",
       "Dimensions:    (time: 612, bnds: 2, lat: 144, lon: 192)\n",
       "Coordinates:\n",
       "  * time       (time) object 5kB 2050-01-16 00:00:00 ... 2100-12-16 00:00:00\n",
       "  * lat        (lat) float64 1kB -89.38 -88.12 -86.88 ... 86.88 88.12 89.38\n",
       "  * lon        (lon) float64 2kB 0.9375 2.812 4.688 6.562 ... 355.3 357.2 359.1\n",
       "    height     float64 8B ...\n",
       "Dimensions without coordinates: bnds\n",
       "Data variables:\n",
       "    time_bnds  (time, bnds) object 10kB ...\n",
       "    lat_bnds   (lat, bnds) float64 2kB ...\n",
       "    lon_bnds   (lon, bnds) float64 3kB ...\n",
       "    tas        (time, lat, lon) float32 68MB ...\n",
       "Attributes: (12/46)\n",
       "    Conventions:            CF-1.7 CMIP-6.2\n",
       "    activity_id:            ScenarioMIP\n",
       "    branch_method:          standard\n",
       "    branch_time_in_child:   59400.0\n",
       "    branch_time_in_parent:  59400.0\n",
       "    creation_date:          2019-04-18T14:30:46Z\n",
       "    ...                     ...\n",
       "    title:                  UKESM1-0-LL output prepared for CMIP6\n",
       "    variable_id:            tas\n",
       "    variant_label:          r1i1p1f2\n",
       "    license:                CMIP6 model data produced by the Met Office Hadle...\n",
       "    cmor_version:           3.4.0\n",
       "    tracking_id:            hdl:21.14100/542545ca-f8aa-49bf-abf5-b6b0e97dbaec"
      ]
     },
     "execution_count": 7,
     "metadata": {},
     "output_type": "execute_result"
    }
   ],
   "source": [
    "ds = xr.open_dataset(f'{DATADIR}{cmip6_nc[0]}')\n",
    "ds"
   ]
  },
  {
   "cell_type": "markdown",
   "metadata": {},
   "source": [
    "By examining the data above, we can see from the temporal range (1850 to 2014) that it is from the `historical` experiment.\n",
    "\n",
    "We see that the data dimensions have been given labelled coordinates of time, latitude and longitude. We can find more about the dataset from the `Attributes`, such information includes the model name, description of the variable (`long_name`), units, etc.\n",
    "\n",
    "Some of this information we will need later, this includes the experiment and model IDs. We will save these into variables:"
   ]
  },
  {
   "cell_type": "code",
   "execution_count": 8,
   "metadata": {},
   "outputs": [],
   "source": [
    "exp = ds.attrs['experiment_id']\n",
    "mod = ds.attrs['source_id']"
   ]
  },
  {
   "cell_type": "markdown",
   "metadata": {},
   "source": [
    "An `xarray.Dataset()` may contain arrays of multiple variables. We only have one variable in the dataset, which is near-surface air temperature, `tas`. Below we create an `xarray.DataArray()` object, which takes only one variable, but gives us more flexibility in processing."
   ]
  },
  {
   "cell_type": "code",
   "execution_count": 9,
   "metadata": {},
   "outputs": [],
   "source": [
    "da = ds['tas']"
   ]
  },
  {
   "cell_type": "markdown",
   "metadata": {},
   "source": [
    "<hr>"
   ]
  },
  {
   "cell_type": "markdown",
   "metadata": {},
   "source": [
    "### 4.B. Spatial aggregation"
   ]
  },
  {
   "cell_type": "markdown",
   "metadata": {},
   "source": [
    "The next step is to aggregate the temperature values spatially (i.e. average over the latitude and longitude dimensions) and compute the global monthly near-surface temperature.\n",
    "\n",
    "A very important consideration however is that the gridded data cells do not all correspond to the same areas. The size covered by each data point varies as a function of latitude. We need to take this into account when averaging. One way to do this is to use the cosine of the latitude as a proxy for the varying sizes. \n",
    "\n",
    "This can be implemented by first calculating weights as a function of the cosine of the latitude, then applying these weights to the data array with the xarray function `weighted()`:"
   ]
  },
  {
   "cell_type": "code",
   "execution_count": 10,
   "metadata": {},
   "outputs": [],
   "source": [
    "weights = np.cos(np.deg2rad(da.lat))\n",
    "weights.name = \"weights\"\n",
    "da_weighted = da.weighted(weights)"
   ]
  },
  {
   "cell_type": "markdown",
   "metadata": {},
   "source": [
    "The next step is then to compute the mean across the latitude and longitude dimensions of the weighted data array with the function `mean()`. The result is a DataArray with one dimension (`time`)."
   ]
  },
  {
   "cell_type": "code",
   "execution_count": 11,
   "metadata": {},
   "outputs": [],
   "source": [
    "da_agg = da_weighted.mean(['lat', 'lon'])"
   ]
  },
  {
   "cell_type": "markdown",
   "metadata": {},
   "source": [
    "<hr>"
   ]
  },
  {
   "cell_type": "markdown",
   "metadata": {},
   "source": [
    "### 4.C. Temporal aggregation"
   ]
  },
  {
   "cell_type": "markdown",
   "metadata": {},
   "source": [
    "We now aggregate the monthly global near-surface air temperature values to annual global near-surface air temperature values. This operation can be done in two steps: first, all the values for one specific year have to be grouped with the function `groupby()` and second, we can create the average of each group with the function `mean()`.\n",
    "\n",
    "The result is a one-dimensional DataArray. Please note that this operation changes the name of the dimension from `time` to `year`."
   ]
  },
  {
   "cell_type": "code",
   "execution_count": 12,
   "metadata": {},
   "outputs": [],
   "source": [
    "da_yr = da_agg.groupby('time.year').mean()"
   ]
  },
  {
   "cell_type": "markdown",
   "metadata": {},
   "source": [
    "<hr>"
   ]
  },
  {
   "cell_type": "markdown",
   "metadata": {},
   "source": [
    "### 4.D. Conversion from Kelvin to Celsius"
   ]
  },
  {
   "cell_type": "markdown",
   "metadata": {},
   "source": [
    "The metadata of the original data (before it was stripped during the subsequent processing steps) tells us that the near-surface air temperature data values are in units of Kelvin. We will convert them to degrees Celsius by subtracting 273.15 from the data values. "
   ]
  },
  {
   "cell_type": "code",
   "execution_count": 13,
   "metadata": {},
   "outputs": [],
   "source": [
    "da_yr = da_yr - 273.15"
   ]
  },
  {
   "cell_type": "markdown",
   "metadata": {},
   "source": [
    "<hr>"
   ]
  },
  {
   "cell_type": "markdown",
   "metadata": {},
   "source": [
    "### 4.E. Create additional data dimensions"
   ]
  },
  {
   "cell_type": "markdown",
   "metadata": {},
   "source": [
    "Finally, we will create additional dimensions for the model and for the experiment. These we will label with the model and experiment name as taken from the metadata of the original data (see above). These will be useful when we repeat the processes above for all models and experiments, and combine them into one array."
   ]
  },
  {
   "cell_type": "code",
   "execution_count": 14,
   "metadata": {},
   "outputs": [],
   "source": [
    "da_yr = da_yr.assign_coords(model=mod)\n",
    "da_yr = da_yr.expand_dims('model')\n",
    "da_yr = da_yr.assign_coords(experiment=exp)\n",
    "da_yr = da_yr.expand_dims('experiment')"
   ]
  },
  {
   "cell_type": "markdown",
   "metadata": {},
   "source": [
    "<hr>"
   ]
  },
  {
   "cell_type": "markdown",
   "metadata": {},
   "source": [
    "## 5. Load and prepare CMIP6 data for all models and experiments"
   ]
  },
  {
   "cell_type": "markdown",
   "metadata": {},
   "source": [
    "To repeat the steps above for all models and all experiments, we will collect all of the commands we have used so far into a function, which we can then apply to a batch of files corresponding to the data from all models and experiments."
   ]
  },
  {
   "cell_type": "code",
   "execution_count": 15,
   "metadata": {},
   "outputs": [],
   "source": [
    "# Function to aggregate in geographical lat lon dimensions\n",
    "\n",
    "def geog_agg(fn):\n",
    "    ds = xr.open_dataset(f'{DATADIR}{fn}')\n",
    "    exp = ds.attrs['experiment_id']\n",
    "    mod = ds.attrs['source_id']\n",
    "    da = ds['tas']\n",
    "    weights = np.cos(np.deg2rad(da.lat))\n",
    "    weights.name = \"weights\"\n",
    "    da_weighted = da.weighted(weights)\n",
    "    da_agg = da_weighted.mean(['lat', 'lon'])\n",
    "    da_yr = da_agg.groupby('time.year').mean()\n",
    "    da_yr = da_yr - 273.15\n",
    "    da_yr = da_yr.assign_coords(model=mod)\n",
    "    da_yr = da_yr.expand_dims('model')\n",
    "    da_yr = da_yr.assign_coords(experiment=exp)\n",
    "    da_yr = da_yr.expand_dims('experiment')\n",
    "    da_yr.to_netcdf(path=f'{DATADIR}cmip6_agg_{exp}_{mod}_{str(da_yr.year[0].values)}.nc')"
   ]
  },
  {
   "cell_type": "markdown",
   "metadata": {},
   "source": [
    "Now we can apply this function to all the extracted NetCDF files. The `try` and `except` clauses ensure that all NetCDF files are attempted, even if some fail to be processed. One reason why some may fail is if the data are labelled differently, e.g. the model *MCM-UA-1-0* has coordinates labelled as \"*latitude*\" and *longitude*\". This differs from the suggested standard, and more commonly applied labels of \"*lat*\" and \"*lon*\". Any that fail will be recorded in a print statement, and these can be processed separately. See [here](https://confluence.ecmwf.int/display/CKB/CMIP6%3A+Global+climate+projections#CMIP6:Globalclimateprojections-QualitycontroloftheCDS-CMIP6subset) more details on the quality control of the CMIP6 datasets on the CDS."
   ]
  },
  {
   "cell_type": "code",
   "execution_count": 16,
   "metadata": {},
   "outputs": [],
   "source": [
    "for i in cmip6_nc:\n",
    "    try:\n",
    "        geog_agg(i)\n",
    "    except: print(f'{i} failed')"
   ]
  },
  {
   "cell_type": "markdown",
   "metadata": {},
   "source": [
    "In the absence of any print statements, we see that all files were successfully processed. \n",
    "\n",
    "We will now combine these processed files into one dataset for the final steps to create a visualisation of near-surface air temperature from the model ensemble."
   ]
  },
  {
   "cell_type": "markdown",
   "metadata": {},
   "source": [
    "If all files have the same coordinates, the function `xarray.open_mfdataset` will merge the data according to the same coordinates."
   ]
  },
  {
   "cell_type": "code",
   "execution_count": 17,
   "metadata": {},
   "outputs": [],
   "source": [
    "data_ds = xr.open_mfdataset(f'{DATADIR}cmip6_agg*.nc')"
   ]
  },
  {
   "cell_type": "markdown",
   "metadata": {},
   "source": [
    "The dataset created by `xarray.open_mfdataset` is by default in the form of `lazy Dask arrays`. \n",
    "\n",
    "Dask divides arrays into many small pieces, called chunks, each of which is presumed to be small enough to fit into memory. As opposed to eager evaluation, operations on Dask arrays are lazy, i.e. operations queue up a series of tasks mapped over blocks, and no computation is performed until you request values to be computed. See [this page](https://xarray.pydata.org/en/stable/user-guide/dask.html) for more details. \n",
    "\n",
    "To facilitate further processing we would need to convert these Dask arrays into in-memory \"eager\" arrays, which we can do by using the `load()` method: "
   ]
  },
  {
   "cell_type": "code",
   "execution_count": 18,
   "metadata": {
    "scrolled": true
   },
   "outputs": [
    {
     "data": {
      "text/html": [
       "<div><svg style=\"position: absolute; width: 0; height: 0; overflow: hidden\">\n",
       "<defs>\n",
       "<symbol id=\"icon-database\" viewBox=\"0 0 32 32\">\n",
       "<path d=\"M16 0c-8.837 0-16 2.239-16 5v4c0 2.761 7.163 5 16 5s16-2.239 16-5v-4c0-2.761-7.163-5-16-5z\"></path>\n",
       "<path d=\"M16 17c-8.837 0-16-2.239-16-5v6c0 2.761 7.163 5 16 5s16-2.239 16-5v-6c0 2.761-7.163 5-16 5z\"></path>\n",
       "<path d=\"M16 26c-8.837 0-16-2.239-16-5v6c0 2.761 7.163 5 16 5s16-2.239 16-5v-6c0 2.761-7.163 5-16 5z\"></path>\n",
       "</symbol>\n",
       "<symbol id=\"icon-file-text2\" viewBox=\"0 0 32 32\">\n",
       "<path d=\"M28.681 7.159c-0.694-0.947-1.662-2.053-2.724-3.116s-2.169-2.030-3.116-2.724c-1.612-1.182-2.393-1.319-2.841-1.319h-15.5c-1.378 0-2.5 1.121-2.5 2.5v27c0 1.378 1.122 2.5 2.5 2.5h23c1.378 0 2.5-1.122 2.5-2.5v-19.5c0-0.448-0.137-1.23-1.319-2.841zM24.543 5.457c0.959 0.959 1.712 1.825 2.268 2.543h-4.811v-4.811c0.718 0.556 1.584 1.309 2.543 2.268zM28 29.5c0 0.271-0.229 0.5-0.5 0.5h-23c-0.271 0-0.5-0.229-0.5-0.5v-27c0-0.271 0.229-0.5 0.5-0.5 0 0 15.499-0 15.5 0v7c0 0.552 0.448 1 1 1h7v19.5z\"></path>\n",
       "<path d=\"M23 26h-14c-0.552 0-1-0.448-1-1s0.448-1 1-1h14c0.552 0 1 0.448 1 1s-0.448 1-1 1z\"></path>\n",
       "<path d=\"M23 22h-14c-0.552 0-1-0.448-1-1s0.448-1 1-1h14c0.552 0 1 0.448 1 1s-0.448 1-1 1z\"></path>\n",
       "<path d=\"M23 18h-14c-0.552 0-1-0.448-1-1s0.448-1 1-1h14c0.552 0 1 0.448 1 1s-0.448 1-1 1z\"></path>\n",
       "</symbol>\n",
       "</defs>\n",
       "</svg>\n",
       "<style>/* CSS stylesheet for displaying xarray objects in jupyterlab.\n",
       " *\n",
       " */\n",
       "\n",
       ":root {\n",
       "  --xr-font-color0: var(--jp-content-font-color0, rgba(0, 0, 0, 1));\n",
       "  --xr-font-color2: var(--jp-content-font-color2, rgba(0, 0, 0, 0.54));\n",
       "  --xr-font-color3: var(--jp-content-font-color3, rgba(0, 0, 0, 0.38));\n",
       "  --xr-border-color: var(--jp-border-color2, #e0e0e0);\n",
       "  --xr-disabled-color: var(--jp-layout-color3, #bdbdbd);\n",
       "  --xr-background-color: var(--jp-layout-color0, white);\n",
       "  --xr-background-color-row-even: var(--jp-layout-color1, white);\n",
       "  --xr-background-color-row-odd: var(--jp-layout-color2, #eeeeee);\n",
       "}\n",
       "\n",
       "html[theme=dark],\n",
       "body[data-theme=dark],\n",
       "body.vscode-dark {\n",
       "  --xr-font-color0: rgba(255, 255, 255, 1);\n",
       "  --xr-font-color2: rgba(255, 255, 255, 0.54);\n",
       "  --xr-font-color3: rgba(255, 255, 255, 0.38);\n",
       "  --xr-border-color: #1F1F1F;\n",
       "  --xr-disabled-color: #515151;\n",
       "  --xr-background-color: #111111;\n",
       "  --xr-background-color-row-even: #111111;\n",
       "  --xr-background-color-row-odd: #313131;\n",
       "}\n",
       "\n",
       ".xr-wrap {\n",
       "  display: block !important;\n",
       "  min-width: 300px;\n",
       "  max-width: 700px;\n",
       "}\n",
       "\n",
       ".xr-text-repr-fallback {\n",
       "  /* fallback to plain text repr when CSS is not injected (untrusted notebook) */\n",
       "  display: none;\n",
       "}\n",
       "\n",
       ".xr-header {\n",
       "  padding-top: 6px;\n",
       "  padding-bottom: 6px;\n",
       "  margin-bottom: 4px;\n",
       "  border-bottom: solid 1px var(--xr-border-color);\n",
       "}\n",
       "\n",
       ".xr-header > div,\n",
       ".xr-header > ul {\n",
       "  display: inline;\n",
       "  margin-top: 0;\n",
       "  margin-bottom: 0;\n",
       "}\n",
       "\n",
       ".xr-obj-type,\n",
       ".xr-array-name {\n",
       "  margin-left: 2px;\n",
       "  margin-right: 10px;\n",
       "}\n",
       "\n",
       ".xr-obj-type {\n",
       "  color: var(--xr-font-color2);\n",
       "}\n",
       "\n",
       ".xr-sections {\n",
       "  padding-left: 0 !important;\n",
       "  display: grid;\n",
       "  grid-template-columns: 150px auto auto 1fr 20px 20px;\n",
       "}\n",
       "\n",
       ".xr-section-item {\n",
       "  display: contents;\n",
       "}\n",
       "\n",
       ".xr-section-item input {\n",
       "  display: none;\n",
       "}\n",
       "\n",
       ".xr-section-item input + label {\n",
       "  color: var(--xr-disabled-color);\n",
       "}\n",
       "\n",
       ".xr-section-item input:enabled + label {\n",
       "  cursor: pointer;\n",
       "  color: var(--xr-font-color2);\n",
       "}\n",
       "\n",
       ".xr-section-item input:enabled + label:hover {\n",
       "  color: var(--xr-font-color0);\n",
       "}\n",
       "\n",
       ".xr-section-summary {\n",
       "  grid-column: 1;\n",
       "  color: var(--xr-font-color2);\n",
       "  font-weight: 500;\n",
       "}\n",
       "\n",
       ".xr-section-summary > span {\n",
       "  display: inline-block;\n",
       "  padding-left: 0.5em;\n",
       "}\n",
       "\n",
       ".xr-section-summary-in:disabled + label {\n",
       "  color: var(--xr-font-color2);\n",
       "}\n",
       "\n",
       ".xr-section-summary-in + label:before {\n",
       "  display: inline-block;\n",
       "  content: '►';\n",
       "  font-size: 11px;\n",
       "  width: 15px;\n",
       "  text-align: center;\n",
       "}\n",
       "\n",
       ".xr-section-summary-in:disabled + label:before {\n",
       "  color: var(--xr-disabled-color);\n",
       "}\n",
       "\n",
       ".xr-section-summary-in:checked + label:before {\n",
       "  content: '▼';\n",
       "}\n",
       "\n",
       ".xr-section-summary-in:checked + label > span {\n",
       "  display: none;\n",
       "}\n",
       "\n",
       ".xr-section-summary,\n",
       ".xr-section-inline-details {\n",
       "  padding-top: 4px;\n",
       "  padding-bottom: 4px;\n",
       "}\n",
       "\n",
       ".xr-section-inline-details {\n",
       "  grid-column: 2 / -1;\n",
       "}\n",
       "\n",
       ".xr-section-details {\n",
       "  display: none;\n",
       "  grid-column: 1 / -1;\n",
       "  margin-bottom: 5px;\n",
       "}\n",
       "\n",
       ".xr-section-summary-in:checked ~ .xr-section-details {\n",
       "  display: contents;\n",
       "}\n",
       "\n",
       ".xr-array-wrap {\n",
       "  grid-column: 1 / -1;\n",
       "  display: grid;\n",
       "  grid-template-columns: 20px auto;\n",
       "}\n",
       "\n",
       ".xr-array-wrap > label {\n",
       "  grid-column: 1;\n",
       "  vertical-align: top;\n",
       "}\n",
       "\n",
       ".xr-preview {\n",
       "  color: var(--xr-font-color3);\n",
       "}\n",
       "\n",
       ".xr-array-preview,\n",
       ".xr-array-data {\n",
       "  padding: 0 5px !important;\n",
       "  grid-column: 2;\n",
       "}\n",
       "\n",
       ".xr-array-data,\n",
       ".xr-array-in:checked ~ .xr-array-preview {\n",
       "  display: none;\n",
       "}\n",
       "\n",
       ".xr-array-in:checked ~ .xr-array-data,\n",
       ".xr-array-preview {\n",
       "  display: inline-block;\n",
       "}\n",
       "\n",
       ".xr-dim-list {\n",
       "  display: inline-block !important;\n",
       "  list-style: none;\n",
       "  padding: 0 !important;\n",
       "  margin: 0;\n",
       "}\n",
       "\n",
       ".xr-dim-list li {\n",
       "  display: inline-block;\n",
       "  padding: 0;\n",
       "  margin: 0;\n",
       "}\n",
       "\n",
       ".xr-dim-list:before {\n",
       "  content: '(';\n",
       "}\n",
       "\n",
       ".xr-dim-list:after {\n",
       "  content: ')';\n",
       "}\n",
       "\n",
       ".xr-dim-list li:not(:last-child):after {\n",
       "  content: ',';\n",
       "  padding-right: 5px;\n",
       "}\n",
       "\n",
       ".xr-has-index {\n",
       "  font-weight: bold;\n",
       "}\n",
       "\n",
       ".xr-var-list,\n",
       ".xr-var-item {\n",
       "  display: contents;\n",
       "}\n",
       "\n",
       ".xr-var-item > div,\n",
       ".xr-var-item label,\n",
       ".xr-var-item > .xr-var-name span {\n",
       "  background-color: var(--xr-background-color-row-even);\n",
       "  margin-bottom: 0;\n",
       "}\n",
       "\n",
       ".xr-var-item > .xr-var-name:hover span {\n",
       "  padding-right: 5px;\n",
       "}\n",
       "\n",
       ".xr-var-list > li:nth-child(odd) > div,\n",
       ".xr-var-list > li:nth-child(odd) > label,\n",
       ".xr-var-list > li:nth-child(odd) > .xr-var-name span {\n",
       "  background-color: var(--xr-background-color-row-odd);\n",
       "}\n",
       "\n",
       ".xr-var-name {\n",
       "  grid-column: 1;\n",
       "}\n",
       "\n",
       ".xr-var-dims {\n",
       "  grid-column: 2;\n",
       "}\n",
       "\n",
       ".xr-var-dtype {\n",
       "  grid-column: 3;\n",
       "  text-align: right;\n",
       "  color: var(--xr-font-color2);\n",
       "}\n",
       "\n",
       ".xr-var-preview {\n",
       "  grid-column: 4;\n",
       "}\n",
       "\n",
       ".xr-index-preview {\n",
       "  grid-column: 2 / 5;\n",
       "  color: var(--xr-font-color2);\n",
       "}\n",
       "\n",
       ".xr-var-name,\n",
       ".xr-var-dims,\n",
       ".xr-var-dtype,\n",
       ".xr-preview,\n",
       ".xr-attrs dt {\n",
       "  white-space: nowrap;\n",
       "  overflow: hidden;\n",
       "  text-overflow: ellipsis;\n",
       "  padding-right: 10px;\n",
       "}\n",
       "\n",
       ".xr-var-name:hover,\n",
       ".xr-var-dims:hover,\n",
       ".xr-var-dtype:hover,\n",
       ".xr-attrs dt:hover {\n",
       "  overflow: visible;\n",
       "  width: auto;\n",
       "  z-index: 1;\n",
       "}\n",
       "\n",
       ".xr-var-attrs,\n",
       ".xr-var-data,\n",
       ".xr-index-data {\n",
       "  display: none;\n",
       "  background-color: var(--xr-background-color) !important;\n",
       "  padding-bottom: 5px !important;\n",
       "}\n",
       "\n",
       ".xr-var-attrs-in:checked ~ .xr-var-attrs,\n",
       ".xr-var-data-in:checked ~ .xr-var-data,\n",
       ".xr-index-data-in:checked ~ .xr-index-data {\n",
       "  display: block;\n",
       "}\n",
       "\n",
       ".xr-var-data > table {\n",
       "  float: right;\n",
       "}\n",
       "\n",
       ".xr-var-name span,\n",
       ".xr-var-data,\n",
       ".xr-index-name div,\n",
       ".xr-index-data,\n",
       ".xr-attrs {\n",
       "  padding-left: 25px !important;\n",
       "}\n",
       "\n",
       ".xr-attrs,\n",
       ".xr-var-attrs,\n",
       ".xr-var-data,\n",
       ".xr-index-data {\n",
       "  grid-column: 1 / -1;\n",
       "}\n",
       "\n",
       "dl.xr-attrs {\n",
       "  padding: 0;\n",
       "  margin: 0;\n",
       "  display: grid;\n",
       "  grid-template-columns: 125px auto;\n",
       "}\n",
       "\n",
       ".xr-attrs dt,\n",
       ".xr-attrs dd {\n",
       "  padding: 0;\n",
       "  margin: 0;\n",
       "  float: left;\n",
       "  padding-right: 10px;\n",
       "  width: auto;\n",
       "}\n",
       "\n",
       ".xr-attrs dt {\n",
       "  font-weight: normal;\n",
       "  grid-column: 1;\n",
       "}\n",
       "\n",
       ".xr-attrs dt:hover span {\n",
       "  display: inline-block;\n",
       "  background: var(--xr-background-color);\n",
       "  padding-right: 10px;\n",
       "}\n",
       "\n",
       ".xr-attrs dd {\n",
       "  grid-column: 2;\n",
       "  white-space: pre-wrap;\n",
       "  word-break: break-all;\n",
       "}\n",
       "\n",
       ".xr-icon-database,\n",
       ".xr-icon-file-text2,\n",
       ".xr-no-icon {\n",
       "  display: inline-block;\n",
       "  vertical-align: middle;\n",
       "  width: 1em;\n",
       "  height: 1.5em !important;\n",
       "  stroke-width: 0;\n",
       "  stroke: currentColor;\n",
       "  fill: currentColor;\n",
       "}\n",
       "</style><pre class='xr-text-repr-fallback'>&lt;xarray.Dataset&gt; Size: 59kB\n",
       "Dimensions:     (experiment: 4, model: 7, year: 251)\n",
       "Coordinates:\n",
       "  * year        (year) int64 2kB 1850 1851 1852 1853 ... 2097 2098 2099 2100\n",
       "  * model       (model) &lt;U15 420B &#x27;HadGEM3-GC31-LL&#x27; ... &#x27;UKESM1-0-LL&#x27;\n",
       "  * experiment  (experiment) &lt;U10 160B &#x27;historical&#x27; &#x27;ssp126&#x27; &#x27;ssp245&#x27; &#x27;ssp585&#x27;\n",
       "    height      (model) float64 56B 1.5 2.0 2.0 2.0 2.0 2.0 1.5\n",
       "Data variables:\n",
       "    tas         (experiment, model, year) float64 56kB 13.58 13.62 ... 20.63</pre><div class='xr-wrap' style='display:none'><div class='xr-header'><div class='xr-obj-type'>xarray.Dataset</div></div><ul class='xr-sections'><li class='xr-section-item'><input id='section-16c45c55-5746-4103-92af-107ba6e9484c' class='xr-section-summary-in' type='checkbox' disabled ><label for='section-16c45c55-5746-4103-92af-107ba6e9484c' class='xr-section-summary'  title='Expand/collapse section'>Dimensions:</label><div class='xr-section-inline-details'><ul class='xr-dim-list'><li><span class='xr-has-index'>experiment</span>: 4</li><li><span class='xr-has-index'>model</span>: 7</li><li><span class='xr-has-index'>year</span>: 251</li></ul></div><div class='xr-section-details'></div></li><li class='xr-section-item'><input id='section-eb57da9c-e6c2-4479-8a6d-9a20b763c913' class='xr-section-summary-in' type='checkbox'  checked><label for='section-eb57da9c-e6c2-4479-8a6d-9a20b763c913' class='xr-section-summary' >Coordinates: <span>(4)</span></label><div class='xr-section-inline-details'></div><div class='xr-section-details'><ul class='xr-var-list'><li class='xr-var-item'><div class='xr-var-name'><span class='xr-has-index'>year</span></div><div class='xr-var-dims'>(year)</div><div class='xr-var-dtype'>int64</div><div class='xr-var-preview xr-preview'>1850 1851 1852 ... 2098 2099 2100</div><input id='attrs-8ba25da9-9fa2-46e6-b68b-55017e0c7a94' class='xr-var-attrs-in' type='checkbox' disabled><label for='attrs-8ba25da9-9fa2-46e6-b68b-55017e0c7a94' title='Show/Hide attributes'><svg class='icon xr-icon-file-text2'><use xlink:href='#icon-file-text2'></use></svg></label><input id='data-cb295bf8-8792-46e7-a05b-9de34865abc3' class='xr-var-data-in' type='checkbox'><label for='data-cb295bf8-8792-46e7-a05b-9de34865abc3' title='Show/Hide data repr'><svg class='icon xr-icon-database'><use xlink:href='#icon-database'></use></svg></label><div class='xr-var-attrs'><dl class='xr-attrs'></dl></div><div class='xr-var-data'><pre>array([1850, 1851, 1852, ..., 2098, 2099, 2100])</pre></div></li><li class='xr-var-item'><div class='xr-var-name'><span class='xr-has-index'>model</span></div><div class='xr-var-dims'>(model)</div><div class='xr-var-dtype'>&lt;U15</div><div class='xr-var-preview xr-preview'>&#x27;HadGEM3-GC31-LL&#x27; ... &#x27;UKESM1-0-LL&#x27;</div><input id='attrs-9b21ff10-681e-4873-886c-d42596ccacbb' class='xr-var-attrs-in' type='checkbox' disabled><label for='attrs-9b21ff10-681e-4873-886c-d42596ccacbb' title='Show/Hide attributes'><svg class='icon xr-icon-file-text2'><use xlink:href='#icon-file-text2'></use></svg></label><input id='data-c3296089-376c-43f8-9220-d7a4dc635b91' class='xr-var-data-in' type='checkbox'><label for='data-c3296089-376c-43f8-9220-d7a4dc635b91' title='Show/Hide data repr'><svg class='icon xr-icon-database'><use xlink:href='#icon-database'></use></svg></label><div class='xr-var-attrs'><dl class='xr-attrs'></dl></div><div class='xr-var-data'><pre>array([&#x27;HadGEM3-GC31-LL&#x27;, &#x27;INM-CM4-8&#x27;, &#x27;INM-CM5-0&#x27;, &#x27;IPSL-CM6A-LR&#x27;,\n",
       "       &#x27;MIROC-ES2L&#x27;, &#x27;MPI-ESM1-2-LR&#x27;, &#x27;UKESM1-0-LL&#x27;], dtype=&#x27;&lt;U15&#x27;)</pre></div></li><li class='xr-var-item'><div class='xr-var-name'><span class='xr-has-index'>experiment</span></div><div class='xr-var-dims'>(experiment)</div><div class='xr-var-dtype'>&lt;U10</div><div class='xr-var-preview xr-preview'>&#x27;historical&#x27; &#x27;ssp126&#x27; ... &#x27;ssp585&#x27;</div><input id='attrs-f4d66cf1-713c-46d7-a4be-1e739bdc0d2c' class='xr-var-attrs-in' type='checkbox' disabled><label for='attrs-f4d66cf1-713c-46d7-a4be-1e739bdc0d2c' title='Show/Hide attributes'><svg class='icon xr-icon-file-text2'><use xlink:href='#icon-file-text2'></use></svg></label><input id='data-2af0dc1b-1ea9-4984-aba9-42acfbbe587f' class='xr-var-data-in' type='checkbox'><label for='data-2af0dc1b-1ea9-4984-aba9-42acfbbe587f' title='Show/Hide data repr'><svg class='icon xr-icon-database'><use xlink:href='#icon-database'></use></svg></label><div class='xr-var-attrs'><dl class='xr-attrs'></dl></div><div class='xr-var-data'><pre>array([&#x27;historical&#x27;, &#x27;ssp126&#x27;, &#x27;ssp245&#x27;, &#x27;ssp585&#x27;], dtype=&#x27;&lt;U10&#x27;)</pre></div></li><li class='xr-var-item'><div class='xr-var-name'><span>height</span></div><div class='xr-var-dims'>(model)</div><div class='xr-var-dtype'>float64</div><div class='xr-var-preview xr-preview'>1.5 2.0 2.0 2.0 2.0 2.0 1.5</div><input id='attrs-81bece02-088a-43e8-8fc2-3213765da217' class='xr-var-attrs-in' type='checkbox' disabled><label for='attrs-81bece02-088a-43e8-8fc2-3213765da217' title='Show/Hide attributes'><svg class='icon xr-icon-file-text2'><use xlink:href='#icon-file-text2'></use></svg></label><input id='data-cdd9ef4c-2343-442c-959e-077d6b9d1a65' class='xr-var-data-in' type='checkbox'><label for='data-cdd9ef4c-2343-442c-959e-077d6b9d1a65' title='Show/Hide data repr'><svg class='icon xr-icon-database'><use xlink:href='#icon-database'></use></svg></label><div class='xr-var-attrs'><dl class='xr-attrs'></dl></div><div class='xr-var-data'><pre>array([1.5, 2. , 2. , 2. , 2. , 2. , 1.5])</pre></div></li></ul></div></li><li class='xr-section-item'><input id='section-7a8a543e-5788-428f-a6d9-8ca3d221d38b' class='xr-section-summary-in' type='checkbox'  checked><label for='section-7a8a543e-5788-428f-a6d9-8ca3d221d38b' class='xr-section-summary' >Data variables: <span>(1)</span></label><div class='xr-section-inline-details'></div><div class='xr-section-details'><ul class='xr-var-list'><li class='xr-var-item'><div class='xr-var-name'><span>tas</span></div><div class='xr-var-dims'>(experiment, model, year)</div><div class='xr-var-dtype'>float64</div><div class='xr-var-preview xr-preview'>13.58 13.62 13.7 ... 20.48 20.63</div><input id='attrs-76b6fb07-f127-494f-a880-df050f4bc6ea' class='xr-var-attrs-in' type='checkbox' disabled><label for='attrs-76b6fb07-f127-494f-a880-df050f4bc6ea' title='Show/Hide attributes'><svg class='icon xr-icon-file-text2'><use xlink:href='#icon-file-text2'></use></svg></label><input id='data-6f36ac28-6a45-4e1d-83c0-3df49dafbca2' class='xr-var-data-in' type='checkbox'><label for='data-6f36ac28-6a45-4e1d-83c0-3df49dafbca2' title='Show/Hide data repr'><svg class='icon xr-icon-database'><use xlink:href='#icon-database'></use></svg></label><div class='xr-var-attrs'><dl class='xr-attrs'></dl></div><div class='xr-var-data'><pre>array([[[13.57671526, 13.61972281, 13.69983418, ...,         nan,\n",
       "                 nan,         nan],\n",
       "        [13.38971491, 13.36504047, 13.38635866, ...,         nan,\n",
       "                 nan,         nan],\n",
       "        [13.22804657, 13.19990532, 13.16567923, ...,         nan,\n",
       "                 nan,         nan],\n",
       "        ...,\n",
       "        [14.94895045, 15.10892567, 15.03257159, ...,         nan,\n",
       "                 nan,         nan],\n",
       "        [13.47673094, 13.45913109, 13.46609431, ...,         nan,\n",
       "                 nan,         nan],\n",
       "        [13.32691155, 13.33535187, 13.43955638, ...,         nan,\n",
       "                 nan,         nan]],\n",
       "\n",
       "       [[        nan,         nan,         nan, ..., 16.29245683,\n",
       "         16.36082827, 16.33036985],\n",
       "        [        nan,         nan,         nan, ..., 14.76511278,\n",
       "         14.71776501, 14.78597346],\n",
       "        [        nan,         nan,         nan, ..., 14.57112824,\n",
       "         14.57076709, 14.51991082],\n",
       "...\n",
       "        [        nan,         nan,         nan, ..., 17.47279885,\n",
       "         17.79239638, 17.58084508],\n",
       "        [        nan,         nan,         nan, ..., 16.0461109 ,\n",
       "         16.01744213, 16.02138782],\n",
       "        [        nan,         nan,         nan, ..., 17.85579411,\n",
       "         17.80345584, 17.85325969]],\n",
       "\n",
       "       [[        nan,         nan,         nan, ..., 20.39295861,\n",
       "         20.52182487, 20.57955248],\n",
       "        [        nan,         nan,         nan, ..., 17.39707069,\n",
       "         17.3183903 , 17.38916422],\n",
       "        [        nan,         nan,         nan, ..., 17.16603799,\n",
       "         17.24878839, 17.27704339],\n",
       "        ...,\n",
       "        [        nan,         nan,         nan, ..., 19.3107107 ,\n",
       "         19.39395087, 19.69432393],\n",
       "        [        nan,         nan,         nan, ..., 18.06633781,\n",
       "         17.98003727, 17.73531158],\n",
       "        [        nan,         nan,         nan, ..., 20.65340704,\n",
       "         20.48425935, 20.63318635]]])</pre></div></li></ul></div></li><li class='xr-section-item'><input id='section-e729fc05-d28c-406b-9323-b39ab4b9eb32' class='xr-section-summary-in' type='checkbox'  ><label for='section-e729fc05-d28c-406b-9323-b39ab4b9eb32' class='xr-section-summary' >Indexes: <span>(3)</span></label><div class='xr-section-inline-details'></div><div class='xr-section-details'><ul class='xr-var-list'><li class='xr-var-item'><div class='xr-index-name'><div>year</div></div><div class='xr-index-preview'>PandasIndex</div><div></div><input id='index-2ef393fc-d662-4eb8-9ae6-3ea6636f8382' class='xr-index-data-in' type='checkbox'/><label for='index-2ef393fc-d662-4eb8-9ae6-3ea6636f8382' title='Show/Hide index repr'><svg class='icon xr-icon-database'><use xlink:href='#icon-database'></use></svg></label><div class='xr-index-data'><pre>PandasIndex(Index([1850, 1851, 1852, 1853, 1854, 1855, 1856, 1857, 1858, 1859,\n",
       "       ...\n",
       "       2091, 2092, 2093, 2094, 2095, 2096, 2097, 2098, 2099, 2100],\n",
       "      dtype=&#x27;int64&#x27;, name=&#x27;year&#x27;, length=251))</pre></div></li><li class='xr-var-item'><div class='xr-index-name'><div>model</div></div><div class='xr-index-preview'>PandasIndex</div><div></div><input id='index-03a03392-a93f-4e6a-a74c-b293525e529a' class='xr-index-data-in' type='checkbox'/><label for='index-03a03392-a93f-4e6a-a74c-b293525e529a' title='Show/Hide index repr'><svg class='icon xr-icon-database'><use xlink:href='#icon-database'></use></svg></label><div class='xr-index-data'><pre>PandasIndex(Index([&#x27;HadGEM3-GC31-LL&#x27;, &#x27;INM-CM4-8&#x27;, &#x27;INM-CM5-0&#x27;, &#x27;IPSL-CM6A-LR&#x27;,\n",
       "       &#x27;MIROC-ES2L&#x27;, &#x27;MPI-ESM1-2-LR&#x27;, &#x27;UKESM1-0-LL&#x27;],\n",
       "      dtype=&#x27;object&#x27;, name=&#x27;model&#x27;))</pre></div></li><li class='xr-var-item'><div class='xr-index-name'><div>experiment</div></div><div class='xr-index-preview'>PandasIndex</div><div></div><input id='index-09194624-4491-4ca3-904a-3fb80ba7f3a2' class='xr-index-data-in' type='checkbox'/><label for='index-09194624-4491-4ca3-904a-3fb80ba7f3a2' title='Show/Hide index repr'><svg class='icon xr-icon-database'><use xlink:href='#icon-database'></use></svg></label><div class='xr-index-data'><pre>PandasIndex(Index([&#x27;historical&#x27;, &#x27;ssp126&#x27;, &#x27;ssp245&#x27;, &#x27;ssp585&#x27;], dtype=&#x27;object&#x27;, name=&#x27;experiment&#x27;))</pre></div></li></ul></div></li><li class='xr-section-item'><input id='section-79914635-4784-4c01-bbba-39914b4a898c' class='xr-section-summary-in' type='checkbox' disabled ><label for='section-79914635-4784-4c01-bbba-39914b4a898c' class='xr-section-summary'  title='Expand/collapse section'>Attributes: <span>(0)</span></label><div class='xr-section-inline-details'></div><div class='xr-section-details'><dl class='xr-attrs'></dl></div></li></ul></div></div>"
      ],
      "text/plain": [
       "<xarray.Dataset> Size: 59kB\n",
       "Dimensions:     (experiment: 4, model: 7, year: 251)\n",
       "Coordinates:\n",
       "  * year        (year) int64 2kB 1850 1851 1852 1853 ... 2097 2098 2099 2100\n",
       "  * model       (model) <U15 420B 'HadGEM3-GC31-LL' ... 'UKESM1-0-LL'\n",
       "  * experiment  (experiment) <U10 160B 'historical' 'ssp126' 'ssp245' 'ssp585'\n",
       "    height      (model) float64 56B 1.5 2.0 2.0 2.0 2.0 2.0 1.5\n",
       "Data variables:\n",
       "    tas         (experiment, model, year) float64 56kB 13.58 13.62 ... 20.63"
      ]
     },
     "execution_count": 18,
     "metadata": {},
     "output_type": "execute_result"
    }
   ],
   "source": [
    "data_ds.load()"
   ]
  },
  {
   "cell_type": "markdown",
   "metadata": {},
   "source": [
    "Finally, we create an Xarray DataArray object for the near-surface air temperature variable, 'tas':"
   ]
  },
  {
   "cell_type": "code",
   "execution_count": 19,
   "metadata": {},
   "outputs": [],
   "source": [
    "data = data_ds['tas']"
   ]
  },
  {
   "cell_type": "markdown",
   "metadata": {},
   "source": [
    "<hr>"
   ]
  },
  {
   "cell_type": "markdown",
   "metadata": {},
   "source": [
    "## 6. Visualize the CMIP6 annual global average temperature between 1850 to 2100"
   ]
  },
  {
   "cell_type": "markdown",
   "metadata": {},
   "source": [
    "We will now create a plot of the model ensemble of near-surface air temperature for the historical and future periods, according to the three selected scenarios."
   ]
  },
  {
   "cell_type": "markdown",
   "metadata": {},
   "source": [
    "### 6.A. Calculate quantiles for model ensemble"
   ]
  },
  {
   "cell_type": "markdown",
   "metadata": {},
   "source": [
    "Rather than plotting the data from all models, we will instead view the range of values as given by quantiles, including the 10th (near to lower limit), the 50th (mid-range) and the 90th (near to upper limit) quantiles:"
   ]
  },
  {
   "cell_type": "code",
   "execution_count": 20,
   "metadata": {},
   "outputs": [
    {
     "name": "stderr",
     "output_type": "stream",
     "text": [
      "/Library/Frameworks/Python.framework/Versions/3.12/lib/python3.12/site-packages/numpy/lib/nanfunctions.py:1563: RuntimeWarning: All-NaN slice encountered\n",
      "  return function_base._ureduce(a,\n"
     ]
    }
   ],
   "source": [
    "data_90 = data.quantile(0.9, dim='model')\n",
    "data_10 = data.quantile(0.1, dim='model')\n",
    "data_50 = data.quantile(0.5, dim='model')"
   ]
  },
  {
   "cell_type": "markdown",
   "metadata": {},
   "source": [
    "<div class=\"alert alert-block alert-success\">\n",
    "<b>NOTE</b>: <br>\n",
    "    The warning message is due to the presence of NaN (Not a Number) data given that the historical and scenario datasets represent only parts (historical and future respectively) of the entire time series. As these two datasets have been merged, NaN values will exist (e.g. there will be no data for the historical experiment for the future period).</div>"
   ]
  },
  {
   "cell_type": "markdown",
   "metadata": {},
   "source": [
    "<hr>"
   ]
  },
  {
   "cell_type": "markdown",
   "metadata": {},
   "source": [
    "### 6.B. View time-series"
   ]
  },
  {
   "cell_type": "markdown",
   "metadata": {},
   "source": [
    "Finally we will visualise this data in one time-series plot. We will use the matplotlib function `plot()`. The dimension `year` will be the x-axis and the near-surface air temperature values in degrees Celsius will be the y-axis. \n",
    "\n",
    "The plotting function below has four main parts:\n",
    "* **Initiate the plot**: initiate a matplotlib plot with `plt.subplots()`\n",
    "* **Plot the time-series**: plot the data for each experiment, including the historical experiment and three scenarios with the `plot()` function\n",
    "* **Set axes limits, labels, title and legend**: Define title and axes labels, and add additional items to the plot, such as legend or gridlines\n",
    "* **Save the figure**: Save the figure as a PNG file with the `matplotlib.pyplot.savefig()` function"
   ]
  },
  {
   "cell_type": "code",
   "execution_count": 28,
   "metadata": {
    "scrolled": true
   },
   "outputs": [
    {
     "data": {
      "image/png": "[encoded data removed]",
      "text/plain": [
       "<Figure size 1600x700 with 1 Axes>"
      ]
     },
     "metadata": {},
     "output_type": "display_data"
    }
   ],
   "source": [
    "# Initiate the plot:\n",
    "fig, ax = plt.subplots(1, 1, figsize = (16, 7))\n",
    "\n",
    "#Plot the time-series:\n",
    "colours = ['black','red','green','blue']\n",
    "for i in np.arange(len(experiments)):\n",
    "    ax.plot(data_50.year, data_50[i,:], color=f'{colours[i]}', \n",
    "            label=f'{data_50.experiment[i].values} 50th quantile')\n",
    "    ax.fill_between(data_50.year, data_90[i,:], data_10[i,:], alpha=0.1, color=f'{colours[i]}', \n",
    "            label=f'{data_50.experiment[i].values} 10th and 90th quantile range')\n",
    "\n",
    "# Set axes limits, labels, title and legend:\n",
    "ax.set_xlim(1850,2100)\n",
    "ax.set_title('CMIP6 annual global average temperature (1850 to 2100)')\n",
    "ax.set_ylabel('tam (Celsius)')\n",
    "ax.set_xlabel('year')\n",
    "handles, labels = ax.get_legend_handles_labels()\n",
    "ax.legend(handles, labels)\n",
    "ax.grid(linestyle='--')\n",
    "\n",
    "#Save the figure:\n",
    "fig.savefig(f'{DATADIR}CMIP6_annual_global_tas.png')"
   ]
  },
  {
   "cell_type": "markdown",
   "metadata": {
    "editable": true,
    "slideshow": {
     "slide_type": ""
    },
    "tags": []
   },
   "source": [
    "The visualization of the `CMIP6 annual global average temperature (1850 to 2100)` above shows that the global average temperature was more or less stable in the pre-industrial phase, but steadily increases since the 1990s. It shows further that, depending on the SSP scenario, the course and increase of the global annual temperature differs. While for the best case `SSP1-2.6` scenario, the global annual temperature could stabilize around 15 degC, in the worst case `SSP5-8.5` scenario, the global annual temperature could increase to above 20 degC."
   ]
  },
  {
   "cell_type": "markdown",
   "metadata": {},
   "source": [
    "<hr>"
   ]
  },
  {
   "cell_type": "markdown",
   "metadata": {
    "editable": true,
    "slideshow": {
     "slide_type": ""
    },
    "tags": [
     "key-messages-to-take-home"
    ]
   },
   "source": [
    "## Key Messages to Take Home 📌\n",
    "\n",
    "- When calculating an ensemble of models, it is best practice to use as many as possible for a more reliable output.\n",
    "\n",
    "- Before using the ensemble of models, preparation steps include spatial and temporal aggregation of data and possible conversion of units of measure.\n",
    "\n",
    "- To merge datasets from different models and experiments, additional data dimensions must be created specifying the model and experiment of each dataset.\n",
    "\n",
    "- Using quantiles instead of ploting all values eases data visualization."
   ]
  },
  {
   "cell_type": "markdown",
   "metadata": {
    "editable": true,
    "slideshow": {
     "slide_type": ""
    },
    "tags": []
   },
   "source": [
    "<hr>"
   ]
  },
  {
   "cell_type": "markdown",
   "metadata": {},
   "source": [
    "<p></p>\n",
    "<span style='float:right'><p style=\\\"text-align:right;\\\">This project is licensed under <a href=\"./LICENSE\">APACHE License 2.0</a>. | <a href=\\\"https://github.com/ecmwf-projects/copernicus-training\">View on GitHub</a></span>"
   ]
  }
 ],
 "metadata": {
  "celltoolbar": "Edit Metadata",
  "kernelspec": {
   "display_name": "Python 3 (ipykernel)",
   "language": "python",
   "name": "python3"
  },
  "language_info": {
   "codemirror_mode": {
    "name": "ipython",
    "version": 3
   },
   "file_extension": ".py",
   "mimetype": "text/x-python",
   "name": "python",
   "nbconvert_exporter": "python",
   "pygments_lexer": "ipython3",
   "version": "3.12.1"
  },
  "notebook_group": "climate-projections-tutorial",
  "notebook_name": "projections-cmip6",
  "notebook_title": "Plot an Ensemble of CMIP6 Climate Projections",
  "tags": [
   "multidimensional arrays",
   "model ensemble",
   "spatial aggregation",
   "temporal aggregation",
   "time series"
  ]
 },
 "nbformat": 4,
 "nbformat_minor": 4
}
