{
 "cells": [
  {
   "cell_type": "code",
   "execution_count": null,
   "id": "5e0ba2c6-c91c-4797-97b1-a452b7fc5b0f",
   "metadata": {},
   "outputs": [],
   "source": []
  }
 ],
 "metadata": {
  "kernelspec": {
   "display_name": "",
   "name": ""
  },
  "language_info": {
   "name": ""
  }
 },
 "nbformat": 4,
 "nbformat_minor": 5
}
